{
 "cells": [
  {
   "cell_type": "code",
   "execution_count": 1,
   "metadata": {},
   "outputs": [
    {
     "name": "stdout",
     "output_type": "stream",
     "text": [
      "path=Bubble_dynamics_simulation\\INP file examples\\chem_Otomo2018_without_O.inp\n",
      "\u001b[34mNote, lambda value for specie 'H' is not in data.py: 0.0 is used\u001b[0m\n",
      "\u001b[34mNote, lambda value for specie 'NH2' is not in data.py: 0.0 is used\u001b[0m\n",
      "\u001b[34mNote, lambda value for specie 'NH' is not in data.py: 0.0 is used\u001b[0m\n",
      "\u001b[34mNote, lambda value for specie 'N' is not in data.py: 0.0 is used\u001b[0m\n",
      "\u001b[34mNote, lambda value for specie 'NNH' is not in data.py: 0.0 is used\u001b[0m\n",
      "\u001b[34mNote, lambda value for specie 'N2H4' is not in data.py: 0.0 is used\u001b[0m\n",
      "\u001b[34mNote, lambda value for specie 'N2H3' is not in data.py: 0.0 is used\u001b[0m\n",
      "\u001b[34mNote, lambda value for specie 'N2H2' is not in data.py: 0.0 is used\u001b[0m\n",
      "\u001b[34mNote, lambda value for specie 'H2NN' is not in data.py: 0.0 is used\u001b[0m\n",
      "\u001b[33mWarning, third body 'H2O' is not in species in line 64 (' H2/2.5/ H2O/12/ AR/0.0/ ') in reaction 'H2+M=H+H+M'\u001b[0m\n",
      "\u001b[33mWarning, third body 'AR' is not in species in line 64 (' H2/2.5/ H2O/12/ AR/0.0/ ') in reaction 'H2+M=H+H+M'\u001b[0m\n",
      "model: chem_Otomo2018_without_O\n",
      "File 'parameters.py' succesfully created\n"
     ]
    }
   ],
   "source": [
    "from Bubble_dynamics_simulation import inp_data_extractor as inp\n",
    "\n",
    "path = 'Bubble_dynamics_simulation\\\\INP file examples\\\\chem_Otomo2018_without_O.inp'\n",
    "inp.extract(path)\n",
    "import parameters as par"
   ]
  },
  {
   "cell_type": "code",
   "execution_count": 2,
   "metadata": {},
   "outputs": [
    {
     "name": "stdout",
     "output_type": "stream",
     "text": [
      "model: chem_Otomo2018_without_O\n",
      "target specie: NH3\n",
      "excitation: no_excitation (control parameters: [])\n",
      "enable heat transfer: \u001b[32mTrue\u001b[0m\tenable evaporation: \u001b[31mFalse\u001b[0m\tenable reactions: \u001b[32mTrue\u001b[0m\tenable dissipated energy: \u001b[32mTrue\u001b[0m\n",
      "model: chem_Otomo2018_without_O\n",
      "target specie: NH3\n",
      "excitation: no_excitation (control parameters: [])\n",
      "enable heat transfer: \u001b[32mTrue\u001b[0m\tenable evaporation: \u001b[31mFalse\u001b[0m\tenable reactions: \u001b[32mTrue\u001b[0m\tenable dissipated energy: \u001b[32mTrue\u001b[0m\n"
     ]
    }
   ],
   "source": [
    "# for plotting:\n",
    "%matplotlib inline\n",
    "import matplotlib.pyplot as plt\n",
    "plt.rcParams.update({'font.size': 18})\n",
    "\n",
    "import numpy as np   # matrices, math\n",
    "import time   # runtime measurement\n",
    "from multiprocessing import Pool, cpu_count   # multithreading\n",
    "import importlib   # reload changes you made\n",
    "import itertools   # assemble all combinations of control \n",
    "import json   # convert dictionary to string\n",
    "from termcolor import colored   # colored text in terminal\n",
    "\n",
    "# my own file:\n",
    "import Bubble_dynamics_simulation.full_bubble_model as de\n",
    "import Bubble_dynamics_simulation.full_bubble_model_old as deo"
   ]
  },
  {
   "cell_type": "code",
   "execution_count": 3,
   "metadata": {},
   "outputs": [],
   "source": [
    "cpar = de.dotdict(dict(\n",
    "    ID = 0,                                      # ID of control parameter (not used during calculation)\n",
    "  # Initial conditions:\n",
    "    R_E =  0.00001000,                           # bubble equilibrium radius [m]\n",
    "    ratio =  5.00,                               # initial radius / equilibrium radius R_0/R_E [-]\n",
    "    gases = [par.index['H2'], par.index['N2']],  # indexes of species in initial bubble (list of species indexes)\n",
    "    fractions = [0.75, 0.25],                    # molar fractions of species in initial bubble (list of fractions for every gas)\n",
    "  # Ambient parameters:\n",
    "    P_amb =  101325.00,                          # ambient pressure [Pa]\n",
    "    T_inf =  293.15,                             # ambient temperature [K]\n",
    "  # Liquid parameters:\n",
    "    alfa_M =  0.3500,                            # water accommodation coefficient [-]\n",
    "    P_v =  2338.10,                              # vapour pressure [Pa]\n",
    "    mu_L =  0.0010,                              # dynamic viscosity [Pa*s]\n",
    "    c_L =  1483.00,                              # sound speed [m/s]\n",
    "    surfactant =  1.00,                          # surfactant (surface tension modfier) [-]\n",
    "  # Excitation parameters: (excitation_type = sin_impulse)\n",
    "    p_A = -3e5,                                  # [Pa]\n",
    "    freq = 20000.0,                              # [Hz]\n",
    "    n = 1.0,                                     # [-]\n",
    "))\n",
    "\n",
    "# Calculate pressure/temperature dependent parameters:\n",
    "cpar.mu_L = de.Viscosity(cpar.T_inf)\n",
    "cpar.P_v = de.VapourPressure(cpar.T_inf)"
   ]
  },
  {
   "cell_type": "code",
   "execution_count": 4,
   "metadata": {},
   "outputs": [
    {
     "name": "stdout",
     "output_type": "stream",
     "text": [
      "6.49 µs ± 57.7 ns per loop (mean ± std. dev. of 7 runs, 100,000 loops each)\n",
      "17.9 µs ± 143 ns per loop (mean ± std. dev. of 7 runs, 100,000 loops each)\n"
     ]
    }
   ],
   "source": [
    "IC, _, _ = de.InitialCondition(cpar)\n",
    "kwargs = dict(t=0.0, x=IC, P_amb=1e5, alfa_M=0.35, T_inf=300.0, surfactant=1.0, P_v=par.P_v, mu_L=par.mu_L, c_L=par.c_L, ex_args=np.array([-3e5, 20000.0, 1.0], dtype=np.float64))\n",
    "%timeit de.f(**kwargs)\n",
    "%timeit deo.f(**kwargs)"
   ]
  },
  {
   "cell_type": "code",
   "execution_count": 5,
   "metadata": {},
   "outputs": [],
   "source": [
    "def equal(eps=1e-20, **kwargs):\n",
    "    name1, name2 = kwargs.keys()\n",
    "    a = kwargs[name1]\n",
    "    b = kwargs[name2]\n",
    "    if type(a) == tuple or type(a) == list:\n",
    "        a = np.array(a)\n",
    "        b = np.array(b)\n",
    "    if type(a) == np.ndarray:\n",
    "        if type(a[0]) == np.ndarray:\n",
    "            ret = True\n",
    "            for i, (aa, bb) in enumerate(zip(a, b)):\n",
    "                ret = ret and equal(eps, **{name1+str(i): aa, name2+str(i): bb})\n",
    "            return ret\n",
    "        else:\n",
    "            diff = np.abs(a - b) / (abs(b) + 1e-30)\n",
    "            wrong = np.where(diff > eps)[0]\n",
    "            if len(wrong) > 0:\n",
    "                print(colored(f'{name1} != {name2} at indexes:', 'red'), wrong)\n",
    "                for i in wrong:\n",
    "                    print(f'\\t{i}: {a[i]: e} != {b[i]: e}\\t (diff: {diff[i]: e})')\n",
    "                return False\n",
    "            return True\n",
    "    else:\n",
    "        diff = abs(a - b) / (abs(b) + 1e-30)\n",
    "        if diff > eps:\n",
    "            print(colored(f'{name1} != {name2}', 'red'))\n",
    "            print(f'\\t{a: e} != {b: e}\\t (diff: {diff: e})')\n",
    "            return False\n",
    "        return True\n",
    "    \n",
    "def equal_data(a, b, eps=1e-20):\n",
    "    ret = True\n",
    "    ret = ret and equal(eps, x_initial1=a.x_initial, x_initial2=b.x_initial)\n",
    "    ret = ret and equal(eps, x_final1=a.x_final, x_final2=b.x_final)\n",
    "    ret = ret and equal(eps, n_NH31=a.n_NH3, n_NH32=b.n_NH3)\n",
    "    ret = ret and equal(eps, dissipated_acoustic_energy1=a.dissipated_acoustic_energy, dissipated_acoustic_energy2=b.dissipated_acoustic_energy)\n",
    "    ret = ret and equal(eps, energy_efficiency1=a.energy_efficiency, energy_efficiency2=b.energy_efficiency)\n",
    "    ret = ret and equal(eps, T_max1=a.T_max, T_max2=b.T_max)\n",
    "    return ret\n"
   ]
  },
  {
   "cell_type": "code",
   "execution_count": 6,
   "metadata": {},
   "outputs": [
    {
     "data": {
      "text/plain": [
       "True"
      ]
     },
     "execution_count": 6,
     "metadata": {},
     "output_type": "execute_result"
    }
   ],
   "source": [
    "new = de.simulate(dict(cpar=cpar))\n",
    "old = deo.simulate(dict(cpar=cpar))\n",
    "equal_data(de.dotdict(new), de.dotdict(old))"
   ]
  },
  {
   "cell_type": "code",
   "execution_count": 7,
   "metadata": {},
   "outputs": [],
   "source": [
    "num_sol, _, _ = de.solve(cpar)\n",
    "for i in range(0, len(num_sol.t), 10):\n",
    "    t = num_sol.t[i]\n",
    "    x = num_sol.y[:, i]\n",
    "    kwargs = dict(t=t, x=x, P_amb=1e5, alfa_M=0.35, T_inf=300.0, surfactant=1.0, P_v=par.P_v, mu_L=par.mu_L, c_L=par.c_L, ex_args=np.array([-3e5, 20000.0, 1.0], dtype=np.float64))\n",
    "    new = de.f(**kwargs)\n",
    "    old = deo.f(**kwargs)\n",
    "    if not equal(new=new, old=old, eps=1e-100):\n",
    "        print(i)\n",
    "        break"
   ]
  },
  {
   "cell_type": "code",
   "execution_count": 8,
   "metadata": {},
   "outputs": [
    {
     "name": "stdout",
     "output_type": "stream",
     "text": [
      "\u001b[32mPressure\u001b[0m\n",
      "\u001b[32mThermodynamic\u001b[0m\n",
      "\u001b[32mForward rate\u001b[0m\n",
      "\u001b[32mBackward rate\u001b[0m\n",
      "\u001b[32mProduction rate\u001b[0m\n",
      "\u001b[32mODE fun\u001b[0m\n"
     ]
    }
   ],
   "source": [
    "kwargs = dict(t=t, x=x, P_amb=1e5, alfa_M=0.35, T_inf=300.0, surfactant=1.0, P_v=par.P_v, mu_L=par.mu_L, c_L=par.c_L, ex_args=np.array([-3e5, 20000.0, 1.0], dtype=np.float64))\n",
    "print(colored('Pressure', 'green'))\n",
    "R = x[0]      # bubble radius [m]\n",
    "R_dot = x[1]  # [m/s]\n",
    "T = x[2]      # temperature [K]\n",
    "c = x[3:-1]     # molar concentration [mol/cm^3]\n",
    "M = np.sum(c) # sum of concentration\n",
    "X = c / M     # mole fraction [-]\n",
    "p = 0.1 * M * par.R_erg * T # Partial pressure of the gases [Pa]\n",
    "new = de.Pressure(t, R, R_dot, cpar.mu_L, cpar.surfactant, p, 3.14, cpar.P_amb, np.array([cpar.p_A, cpar.freq, cpar.n], dtype=np.float64))\n",
    "old = deo.Pressure(t, R, R_dot, cpar.mu_L, cpar.surfactant, p, 3.14, cpar.P_amb, np.array([cpar.p_A, cpar.freq, cpar.n], dtype=np.float64))\n",
    "equal(new=new, old=old, eps=1e-100)\n",
    "\n",
    "print(colored('Thermodynamic', 'green'))\n",
    "new = de.Thermodynamic(T)\n",
    "old = deo.Thermodynamic(c, T)\n",
    "equal(new=new, old=old, eps=1e-100)\n",
    "[C_p, H, S, C_v] = new\n",
    "\n",
    "if de.enable_evaporation:\n",
    "    print(colored('Evaporation', 'green'))\n",
    "    X_H2O = X[par.index['H2O']]\n",
    "    new = de.Evaporation(p, T, X_H2O, cpar.alfa_M, cpar.T_inf, cpar.P_v)\n",
    "    old = deo.Evaporation(M, T, X_H2O, cpar.alfa_M, cpar.T_inf, cpar.P_v)\n",
    "    equal(new=new, old=old, eps=1e-100)\n",
    "\n",
    "print(colored('Forward rate', 'green'))\n",
    "M_eff1 = np.zeros((par.ThirdBodyCount), dtype = np.float64)   # effective total concentration of the third-body \n",
    "for j, i in enumerate(par.ThirdBodyIndexes):\n",
    "    M_eff1[j] = np.sum(par.alfa[j] * c)\n",
    "M_eff2 = np.sum(c) * np.ones((par.I), dtype = np.float64)    # effective total concentration of the third-body \n",
    "for j, i in enumerate(par.ThirdBodyIndexes):\n",
    "    M_eff2[i] = np.sum(par.alfa[j] * c)\n",
    "new = de.ForwardRate(T, M_eff1, M, p)\n",
    "old = deo.ForwardRate(T, M_eff2, M)\n",
    "equal(new=new, old=old, eps=1e-100)\n",
    "k_forward = new\n",
    "\n",
    "print(colored('Backward rate', 'green'))\n",
    "new= de.BackwardRate(k_forward, S, H, T, cpar.P_amb)\n",
    "old= deo.BackwardRate(k_forward, S, H, T, cpar.P_amb)\n",
    "equal(new=new, old=old, eps=1e-100)\n",
    "\n",
    "print(colored('Production rate', 'green'))\n",
    "new= de.ProductionRate(T, H, S, c, cpar.P_amb, p, M)\n",
    "old= deo.ProductionRate(T, H, S, c, cpar.P_amb, M)\n",
    "equal(new=new, old=old, eps=1e-100)\n",
    "\n",
    "print(colored('ODE fun', 'green'))\n",
    "new = de.f(t, x, cpar.P_amb, cpar.alfa_M, cpar.T_inf, cpar.surfactant, cpar.P_v, cpar.mu_L, cpar.c_L, np.array([cpar.p_A, cpar.freq, cpar.n], dtype=np.float64))\n",
    "old = deo.f(t, x, cpar.P_amb, cpar.alfa_M, cpar.T_inf, cpar.surfactant, cpar.P_v, cpar.mu_L, cpar.c_L, np.array([cpar.p_A, cpar.freq, cpar.n], dtype=np.float64))\n",
    "equal(new=new, old=old, eps=1e-100)\n",
    "None"
   ]
  },
  {
   "cell_type": "code",
   "execution_count": 18,
   "metadata": {},
   "outputs": [
    {
     "name": "stdout",
     "output_type": "stream",
     "text": [
      "index:      400/400;   error_code:  252;   steps: 0       ;   runtime:  130.25 [s]   |   R_E= 25.00 [um]; ratio= 50.00 [-]; P_amb= 50.66 [bar]; alfa_M=  0.05 [-]; T_inf= 30.00 [°C]; surfactant= 100 [%]   |      |   NH3 production:  1.000000e+30 [MJ/kg] (best:  5217.9 [MJ/kg])                                                                           \n",
      "\n",
      "DONE\n",
      "total time:  0 hours  7 mins\n",
      "             431.26 [s]   ( 1.08 [s/run])\n"
     ]
    }
   ],
   "source": [
    "ranges = dict(\n",
    "  # Initial conditions:\n",
    "    # bubble equilibrium radius [m]\n",
    "    R_E = [1e-6*x for x in [1.0, 2.0, 3.0, 4.0, 5.0, 7.5, 10.0, 15.0, 20.0, 25.0]], # [um --> m]\n",
    "    # initial radius / equilibrium radius R_0/R_E [-]\n",
    "    ratio = [2.0, 3.0, 5.0, 10.0, 15.0, 20.0, 25.0, 30.0, 40.0, 50.0],\n",
    "  # Ambient parameters:\n",
    "    # ambient pressure [Pa]\n",
    "    P_amb = [x * par.atm2Pa for x in [1.0, 10.0, 25.0, 50.0]], # [atm --> Pa]\n",
    "    # ambient temperature [K]       \n",
    "    T_inf = [par.absolute_zero + x for x in [30.0]], # [°C --> K]\n",
    "  # Liquid parameters:\n",
    "    # water accommodation coefficient [-]\n",
    "    alfa_M = [0.05],\n",
    "    #P_v = par.P_v,                    # vapour pressure [Pa]\n",
    "    #mu_L = par.mu_L,                  # dynamic viscosity [Pa*s]\n",
    "    # sound speed [m/s]\n",
    "    c_L = [par.c_L],\n",
    "    # surfactant (surface tension modfier) [-]\n",
    "    surfactant = [1.0],\n",
    "  # Excitation parameters: (excitation_type = no_excitation)\n",
    "    # -\n",
    ")\n",
    "\n",
    "cpars = []\n",
    "ID = 1\n",
    "for values in itertools.product(*ranges.values()):\n",
    "    cpar = dict(zip(ranges.keys(), values))\n",
    "    cpar['ID'] = ID                      # ID of control parameter (not used during calculation)\n",
    "    cpar['gases'] = [par.index['H2'], par.index['N2']]    # indexes of species in initial bubble (list of species indexes)\n",
    "    cpar['fractions'] = [0.75, 0.25]            # molar fractions of species in initial bubble (list of fractions for every gas)\n",
    "    # Calculate pressure/temperature dependent parameters:\n",
    "    cpar['mu_L'] = de.Viscosity(cpar['T_inf'])\n",
    "    cpar['P_v'] = de.VapourPressure(cpar['T_inf'])\n",
    "    cpars.append(cpar)\n",
    "    ID += 1\n",
    "\n",
    "# Create input dictionary for de.simulate(), a list of dictionaries with cpar and other arguments\n",
    "kwargs_list = [dict(cpar=cpar, t_int=np.array([0.0, 1.0]), LSODA_timeout=30, Radau_timeout=100) for cpar in cpars]\n",
    "\n",
    "\n",
    "best_energy_efficiency = 1e30\n",
    "start = time.time()\n",
    "with Pool(processes=cpu_count(), maxtasksperchild=100) as pool:\n",
    "    results = pool.imap_unordered(de.simulate, kwargs_list)\n",
    "\n",
    "    for data in results:\n",
    "      # save results:\n",
    "        data = de.dotdict(data)\n",
    "      # print stuff:\n",
    "        if data.energy_efficiency > 0 and data.energy_efficiency < best_energy_efficiency:\n",
    "            best_energy_efficiency = data.energy_efficiency\n",
    "        excitation_params = ''.join([f'{key}={data[key]: <12}; ' for key in de.excitation_args])\n",
    "        print(f'index: {data.ID: >8}/{len(cpars)};   error_code: {data.error_code: >4};   steps: {data.steps: <8};   runtime: {data.elapsed_time: 6.2f} [s]   |   '+\n",
    "              f'R_E={1e6*data.R_E: 6.2f} [um]; ratio={data.ratio: 6.2f} [-]; P_amb={1e-5*data.P_amb: 6.2f} [bar]; alfa_M={data.alfa_M: 6.2f} [-]; '+\n",
    "              f'T_inf={data.T_inf-273.15: 6.2f} [°C]; surfactant={100*data.surfactant: 3.0f} [%]   |   {excitation_params}   |   '+\n",
    "              f'{de.target_specie} production: {data.energy_efficiency: e} [MJ/kg] (best: {best_energy_efficiency: .1f} [MJ/kg])'+\n",
    "              '                                                 ', end='\\r')\n",
    "              \n",
    "end = time.time()\n",
    "elapsed = end - start\n",
    "print(f'\\n\\nDONE')\n",
    "print(f'total time: {(elapsed / 3600): .0f} hours {((elapsed % 3600) / 60): .0f} mins')\n",
    "print(f'            {elapsed: .2f} [s]   ({(elapsed / len(    cpars)): .2f} [s/run])')"
   ]
  },
  {
   "cell_type": "code",
   "execution_count": 9,
   "metadata": {},
   "outputs": [],
   "source": [
    "best_energy_efficiency = 1e30\n",
    "start = time.time()\n",
    "with Pool(processes=cpu_count(), maxtasksperchild=100) as pool:\n",
    "    results = pool.imap_unordered(deo.simulate, kwargs_list)\n",
    "\n",
    "    for data in results:\n",
    "      # save results:\n",
    "        data = de.dotdict(data)\n",
    "      # print stuff:\n",
    "        if data.energy_efficiency > 0 and data.energy_efficiency < best_energy_efficiency:\n",
    "            best_energy_efficiency = data.energy_efficiency\n",
    "        excitation_params = ''.join([f'{key}={data[key]: <12}; ' for key in de.excitation_args])\n",
    "        print(f'index: {data.ID: >8}/{len(cpars)};   error_code: {data.error_code: >4};   steps: {data.steps: <8};   runtime: {data.elapsed_time: 6.2f} [s]   |   '+\n",
    "              f'R_E={1e6*data.R_E: 6.2f} [um]; ratio={data.ratio: 6.2f} [-]; P_amb={1e-5*data.P_amb: 6.2f} [bar]; alfa_M={data.alfa_M: 6.2f} [-]; '+\n",
    "              f'T_inf={data.T_inf-273.15: 6.2f} [°C]; surfactant={100*data.surfactant: 3.0f} [%]   |   {excitation_params}   |   '+\n",
    "              f'{de.target_specie} production: {data.energy_efficiency: e} [MJ/kg] (best: {best_energy_efficiency: .1f} [MJ/kg])'+\n",
    "              '                                                 ', end='\\r')\n",
    "              \n",
    "end = time.time()\n",
    "elapsed = end - start\n",
    "print(f'\\n\\nDONE')\n",
    "print(f'total time: {(elapsed / 3600): .0f} hours {((elapsed % 3600) / 60): .0f} mins')\n",
    "print(f'            {elapsed: .2f} [s]   ({(elapsed / len(    cpars)): .2f} [s/run])')"
   ]
  },
  {
   "cell_type": "code",
   "execution_count": 10,
   "metadata": {},
   "outputs": [
    {
     "name": "stdout",
     "output_type": "stream",
     "text": [
      "17: new_time=4.05;    old_time=8.54;    new_time/old_time=0.47                                    \r"
     ]
    },
    {
     "name": "stderr",
     "output_type": "stream",
     "text": [
      "C:\\Users\\aron\\AppData\\Local\\Packages\\PythonSoftwareFoundation.Python.3.10_qbz5n2kfra8p0\\LocalCache\\local-packages\\Python310\\site-packages\\scipy\\integrate\\_ivp\\common.py:338: RuntimeWarning: overflow encountered in multiply\n",
      "  new_factor = NUM_JAC_FACTOR_INCREASE * factor[ind]\n",
      "C:\\Users\\aron\\AppData\\Local\\Packages\\PythonSoftwareFoundation.Python.3.10_qbz5n2kfra8p0\\LocalCache\\local-packages\\Python310\\site-packages\\scipy\\integrate\\_ivp\\common.py:360: RuntimeWarning: overflow encountered in multiply\n",
      "  factor[max_diff < NUM_JAC_DIFF_SMALL * scale] *= NUM_JAC_FACTOR_INCREASE\n",
      "C:\\Users\\aron\\AppData\\Local\\Packages\\PythonSoftwareFoundation.Python.3.10_qbz5n2kfra8p0\\LocalCache\\local-packages\\Python310\\site-packages\\scipy\\integrate\\_ode.py:1348: UserWarning: lsoda: Excess accuracy requested (tolerances too small).\n",
      "  warnings.warn('{:s}: {:s}'.format(self.__class__.__name__,\n"
     ]
    },
    {
     "name": "stdout",
     "output_type": "stream",
     "text": [
      "56: new_time=44.75;    old_time=79.28;    new_time/old_time=0.56                                    \r"
     ]
    },
    {
     "name": "stderr",
     "output_type": "stream",
     "text": [
      "C:\\Users\\aron\\AppData\\Local\\Packages\\PythonSoftwareFoundation.Python.3.10_qbz5n2kfra8p0\\LocalCache\\local-packages\\Python310\\site-packages\\scipy\\integrate\\_ode.py:1348: UserWarning: lsoda: Repeated convergence failures (perhaps bad Jacobian or tolerances).\n",
      "  warnings.warn('{:s}: {:s}'.format(self.__class__.__name__,\n"
     ]
    },
    {
     "name": "stdout",
     "output_type": "stream",
     "text": [
      "396: new_time=3400.38;    old_time=5425.07;    new_time/old_time=0.63                                    \r"
     ]
    }
   ],
   "source": [
    "new_time = 0.0\n",
    "old_time = 0.0\n",
    "for i, kwargs in enumerate(kwargs_list):\n",
    "    start = time.time()\n",
    "    new_data = de.simulate(kwargs)\n",
    "    end = time.time()\n",
    "    new_time += end - start\n",
    "    start = time.time()\n",
    "    old_data = deo.simulate(kwargs)\n",
    "    end = time.time()\n",
    "    old_time += end - start\n",
    "    equal_data(de.dotdict(new_data), de.dotdict(old_data))\n",
    "    print(f'{i}: {new_time=:.2f};    {old_time=:.2f};    {new_time/old_time=:.2f}                                    ', end='\\r')\n",
    "print(f'{new_time=:.2f};    {old_time=:.2f};    {new_time/old_time=:.2f}')\n",
    "print(f'{new_time/len(kwargs_list):.2f};    {old_time/len(kwargs_list)=:.2f}')"
   ]
  },
  {
   "cell_type": "code",
   "execution_count": null,
   "metadata": {},
   "outputs": [],
   "source": [
    "\"\"\"\n",
    "Windows machine ammonia multithread: 578.87 [s] vs 425.02 [s]    ( 1.45 [s/run] vs 1.06 [s/run])\n",
    "\n",
    "\"\"\""
   ]
  }
 ],
 "metadata": {
  "kernelspec": {
   "display_name": "Python 3",
   "language": "python",
   "name": "python3"
  },
  "language_info": {
   "codemirror_mode": {
    "name": "ipython",
    "version": 3
   },
   "file_extension": ".py",
   "mimetype": "text/x-python",
   "name": "python",
   "nbconvert_exporter": "python",
   "pygments_lexer": "ipython3",
   "version": "3.10.11"
  }
 },
 "nbformat": 4,
 "nbformat_minor": 2
}
