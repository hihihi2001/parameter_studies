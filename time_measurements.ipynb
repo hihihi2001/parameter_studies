{
 "cells": [
  {
   "cell_type": "code",
   "execution_count": 1,
   "metadata": {},
   "outputs": [
    {
     "name": "stdout",
     "output_type": "stream",
     "text": [
      "path=Bubble_dynamics_simulation\\INP file examples\\chem_Otomo2018_without_O.inp\n",
      "\u001b[34mNote, lambda value for specie 'H' is not in data.py: 0.0 is used\u001b[0m\n",
      "\u001b[34mNote, lambda value for specie 'NH2' is not in data.py: 0.0 is used\u001b[0m\n",
      "\u001b[34mNote, lambda value for specie 'NH' is not in data.py: 0.0 is used\u001b[0m\n",
      "\u001b[34mNote, lambda value for specie 'N' is not in data.py: 0.0 is used\u001b[0m\n",
      "\u001b[34mNote, lambda value for specie 'NNH' is not in data.py: 0.0 is used\u001b[0m\n",
      "\u001b[34mNote, lambda value for specie 'N2H4' is not in data.py: 0.0 is used\u001b[0m\n",
      "\u001b[34mNote, lambda value for specie 'N2H3' is not in data.py: 0.0 is used\u001b[0m\n",
      "\u001b[34mNote, lambda value for specie 'N2H2' is not in data.py: 0.0 is used\u001b[0m\n",
      "\u001b[34mNote, lambda value for specie 'H2NN' is not in data.py: 0.0 is used\u001b[0m\n",
      "\u001b[33mWarning, third body 'H2O' is not in species in line 64 (' H2/2.5/ H2O/12/ AR/0.0/ ') in reaction 'H2+M=H+H+M'\u001b[0m\n",
      "\u001b[33mWarning, third body 'AR' is not in species in line 64 (' H2/2.5/ H2O/12/ AR/0.0/ ') in reaction 'H2+M=H+H+M'\u001b[0m\n",
      "model: chem_Otomo2018_without_O\n",
      "File 'parameters.py' succesfully created\n",
      "chem_Otomo2018_without_O\n"
     ]
    }
   ],
   "source": [
    "\"\"\"Create parameters.py from a .inp and load it\"\"\"\n",
    "# This cell is facultative, you can use an existing parameters.py\n",
    "\n",
    "# Directory for .inp file:\n",
    "path = 'Bubble_dynamics_simulation\\\\INP file examples\\\\chem_Otomo2018_without_O.inp'\n",
    "\n",
    "# import libraries:\n",
    "import importlib   # for reloading your own files\n",
    "from termcolor import colored   # for colored error messages\n",
    "# my own files:\n",
    "try:\n",
    "    import inp_data_extractor as inp\n",
    "except:\n",
    "    try:\n",
    "        import Bubble_dynamics_simulation.inp_data_extractor as inp\n",
    "    except:\n",
    "        print(colored(f'Error, \\'inp_data_extractor.py\\' not found', 'red'))\n",
    "importlib.reload(inp)\n",
    "\n",
    "# create parameters.py\n",
    "inp.extract(path)\n",
    "\n",
    "# load parameters.py\n",
    "import parameters as par\n",
    "importlib.reload(par)\n",
    "print(par.model)"
   ]
  },
  {
   "cell_type": "code",
   "execution_count": 2,
   "metadata": {},
   "outputs": [
    {
     "name": "stdout",
     "output_type": "stream",
     "text": [
      "model: chem_Otomo2018_without_O\n",
      "target specie: NH3\n",
      "excitation: sin_impulse (control parameters: ['p_A', 'freq', 'n'])\n",
      "enable heat transfer: \u001b[32mTrue\u001b[0m\tenable evaporation: \u001b[31mFalse\u001b[0m\tenable reactions: \u001b[32mTrue\u001b[0m\tenable dissipated energy: \u001b[32mTrue\u001b[0m\n"
     ]
    }
   ],
   "source": [
    "\"\"\"Libraries\"\"\"\n",
    "\n",
    "# for plotting:\n",
    "%matplotlib inline\n",
    "import matplotlib.pyplot as plt\n",
    "plt.rcParams.update({'font.size': 18})\n",
    "\n",
    "import numpy as np   # matrices, math\n",
    "import time   # runtime measurement\n",
    "from multiprocessing import Pool, cpu_count   # multithreading\n",
    "import importlib   # reload changes you made\n",
    "import itertools   # assemble all combinations of control parameters\n",
    "import json   # convert dictionary to string\n",
    "\n",
    "# my own file:\n",
    "already_imported = 'de' in globals()\n",
    "try:\n",
    "    import full_bubble_model as de\n",
    "except:\n",
    "    try:\n",
    "        import Bubble_dynamics_simulation.full_bubble_model as de\n",
    "    except:\n",
    "        print(colored(f'Error, \\'full_bubble_model.py\\' not found', 'red'))\n",
    "if already_imported: importlib.reload(de)   # reload changes you made"
   ]
  },
  {
   "cell_type": "code",
   "execution_count": 16,
   "metadata": {},
   "outputs": [
    {
     "name": "stdout",
     "output_type": "stream",
     "text": [
      "R_E: 10\n",
      "ratio: 1\n",
      "P_amb: 1\n",
      "T_inf: 1\n",
      "alfa_M: 1\n",
      "c_L: 1\n",
      "surfactant: 1\n",
      "p_A: 5\n",
      "freq: 2\n",
      "n: 1\n",
      "_______________________\n",
      "total combinations: 100\n"
     ]
    }
   ],
   "source": [
    "\"\"\"Control parameter ranges and division\"\"\"\n",
    "# a list for each control parameter, containing all the possible values\n",
    "\n",
    "ranges = dict(\n",
    "  # Initial conditions:\n",
    "    # bubble equilibrium radius [m]\n",
    "    R_E = [1e-6*x for x in [60, 70, 80, 90, 100, 110, 120, 130, 140, 150]], # [um --> m]\n",
    "    # initial radius / equilibrium radius R_0/R_E [-]\n",
    "    ratio = [1.0],\n",
    "  # Ambient parameters:\n",
    "    # ambient pressure [Pa]\n",
    "    P_amb = [x * par.atm2Pa for x in [1.0]], # [atm --> Pa]\n",
    "    # ambient temperature [K]       \n",
    "    T_inf = [par.absolute_zero + x for x in [30.0]], # [°C --> K]\n",
    "  # Liquid parameters:\n",
    "    # water accommodation coefficient [-]\n",
    "    alfa_M = [0.35],\n",
    "    #P_v = par.P_v,                    # vapour pressure [Pa]\n",
    "    #mu_L = par.mu_L,                  # dynamic viscosity [Pa*s]\n",
    "    # sound speed [m/s]\n",
    "    c_L = [par.c_L],\n",
    "    # surfactant (surface tension modfier) [-]\n",
    "    surfactant = [1.0],\n",
    "  # Excitation parameters: (excitation_type = no_excitation)\n",
    "    p_A = [-1e5*x for x in [1.5, 1.625, 1.750, 1.875, 2.0]], # [bar --> Pa]\n",
    "    freq = [1e3*x for x in [10.0, 15.0]], # [Hz]\n",
    "    n = [1.0], # [-]\n",
    "    \n",
    ")\n",
    "\n",
    "for key in de.excitation_args:\n",
    "    if key not in ranges:\n",
    "        print(colored(f'Error, {key} not in ranges', 'red'))\n",
    "# print total combinations:\n",
    "for key in ranges:\n",
    "    print(f'{key}: {len(ranges[key])}')\n",
    "total_combinations = f'total combinations: {np.prod([len(ranges[key]) for key in ranges])}'\n",
    "print(''.join(['_' for i in range(len(total_combinations))]))\n",
    "print(total_combinations)"
   ]
  },
  {
   "cell_type": "code",
   "execution_count": 17,
   "metadata": {},
   "outputs": [
    {
     "name": "stdout",
     "output_type": "stream",
     "text": [
      "Assemble cpars: 0.00 s\n",
      "Assemble kwargs_list: 0.00 s\n"
     ]
    }
   ],
   "source": [
    "\"\"\"Get all combinations\"\"\"\n",
    "# Make a list, with one dictionary for eachy parameter combinations\n",
    "\n",
    "start = time.time()\n",
    "cpars = []\n",
    "ID = 1\n",
    "for values in itertools.product(*ranges.values()):\n",
    "    cpar = dict(zip(ranges.keys(), values))\n",
    "    cpar['ID'] = ID                      # ID of control parameter (not used during calculation)\n",
    "    cpar['gases'] = [par.index['H2'], par.index['N2']]    # indexes of species in initial bubble (list of species indexes)\n",
    "    cpar['fractions'] = [0.75, 0.25]            # molar fractions of species in initial bubble (list of fractions for every gas)\n",
    "    # Calculate pressure/temperature dependent parameters:\n",
    "    cpar['mu_L'] = de.Viscosity(cpar['T_inf'])\n",
    "    cpar['P_v'] = de.VapourPressure(cpar['T_inf'])\n",
    "    cpars.append(cpar)\n",
    "    ID += 1\n",
    "\n",
    "print(f'Assemble cpars: {time.time()-start:.2f} s')\n",
    "start = time.time()\n",
    "\n",
    "# Create input dictionary for de.simulate(), a list of dictionaries with cpar and other arguments\n",
    "kwargs_list = [dict(cpar=cpar, t_int=np.array([0.0, 1.0]), LSODA_timeout=200, Radau_timeout=0) for cpar in cpars]\n",
    "end = time.time()\n",
    "print(f'Assemble kwargs_list: {time.time()-start:.2f} s')"
   ]
  },
  {
   "cell_type": "code",
   "execution_count": 5,
   "metadata": {},
   "outputs": [
    {
     "name": "stdout",
     "output_type": "stream",
     "text": [
      "index:       99/100;   error_code:    0;   steps: 16431   ;   runtime:  65.38 [s]   |   R_E= 150.00 [um];  p_A=-200000.0   ; freq=10000.0     ; n=1.0         ;    |   NH3 production:  3.042640e+03 [MJ/kg] (best:  883.7 [MJ/kg])                                                 \n",
      "\n",
      "DONE\n",
      "total time:  0 hours  8 mins\n",
      "             475.27 [s]   ( 4.75 [s/run])\n"
     ]
    }
   ],
   "source": [
    "\"\"\"Parameter study, multithread\"\"\"\n",
    "\n",
    "good = []\n",
    "bad = []\n",
    "best_energy_efficiency = 1e30\n",
    "\n",
    "start = time.time()\n",
    "with Pool(processes=cpu_count(), maxtasksperchild=100) as pool:\n",
    "    results = pool.imap_unordered(de.simulate, kwargs_list)\n",
    "\n",
    "    for data in results:\n",
    "      # save results:\n",
    "      data = de.dotdict(data)\n",
    "      if data.success == True:\n",
    "        good.append(data)\n",
    "      else:\n",
    "        bad.append(data)\n",
    "      # print stuff:\n",
    "      if data.energy_efficiency > 0 and data.energy_efficiency < best_energy_efficiency:\n",
    "          best_energy_efficiency = data.energy_efficiency\n",
    "      excitation_params = ''.join([f'{key}={data[key]: <12}; ' for key in de.excitation_args])\n",
    "      print(f'index: {data.ID: >8}/{len(cpars)};   error_code: {data.error_code: >4};   steps: {data.steps: <8};   runtime: {data.elapsed_time: 6.2f} [s]   |   '+\n",
    "            f'R_E={1e6*data.R_E: 6.2f} [um];  {excitation_params}   |   ' +\n",
    "            f'{de.target_specie} production: {data.energy_efficiency: e} [MJ/kg] (best: {best_energy_efficiency: .1f} [MJ/kg])'+\n",
    "            '                                                 ', end='\\r')\n",
    "              \n",
    "end = time.time()\n",
    "elapsed = end - start\n",
    "print(f'\\n\\nDONE')\n",
    "print(f'total time: {(elapsed / 3600): .0f} hours {((elapsed % 3600) / 60): .0f} mins')\n",
    "print(f'            {elapsed: .2f} [s]   ({(elapsed / len(    cpars)): .2f} [s/run])')"
   ]
  },
  {
   "cell_type": "code",
   "execution_count": 18,
   "metadata": {},
   "outputs": [
    {
     "name": "stdout",
     "output_type": "stream",
     "text": [
      "index:       17/100;   error_code:    0;   steps: 14345   ;   runtime:  37.77 [s]   |   R_E= 70.00 [um];  p_A=-187500.0   ; freq=10000.0     ; n=1.0         ;    |   NH3 production:  2.455036e+03 [MJ/kg] (best:  921.4 [MJ/kg])                                                 \r"
     ]
    },
    {
     "name": "stderr",
     "output_type": "stream",
     "text": [
      "C:\\Users\\aron\\AppData\\Local\\Packages\\PythonSoftwareFoundation.Python.3.10_qbz5n2kfra8p0\\LocalCache\\local-packages\\Python310\\site-packages\\scipy\\integrate\\_ode.py:1348: UserWarning: lsoda: Repeated convergence failures (perhaps bad Jacobian or tolerances).\n",
      "  warnings.warn('{:s}: {:s}'.format(self.__class__.__name__,\n"
     ]
    },
    {
     "name": "stdout",
     "output_type": "stream",
     "text": [
      "index:      100/100;   error_code:    0;   steps: 15920   ;   runtime:  42.57 [s]   |   R_E= 150.00 [um];  p_A=-200000.0   ; freq=15000.0     ; n=1.0         ;    |   NH3 production:  3.523960e+07 [MJ/kg] (best:  883.7 [MJ/kg])                                                 \n",
      "\n",
      "DONE\n",
      "total time:  1 hours  0 mins\n",
      "             3628.02 [s]   ( 36.28 [s/run])\n"
     ]
    }
   ],
   "source": [
    "\"\"\"Parameter study, multithread\"\"\"\n",
    "\n",
    "good = []\n",
    "bad = []\n",
    "best_energy_efficiency = 1e30\n",
    "\n",
    "start = time.time()\n",
    "for kwargs in kwargs_list:\n",
    "    data = de.simulate(kwargs)\n",
    "\n",
    "    # save results:\n",
    "    data = de.dotdict(data)\n",
    "    if data.success == True:\n",
    "      good.append(data)\n",
    "    else:\n",
    "      bad.append(data)\n",
    "      # print stuff:\n",
    "    if data.energy_efficiency > 0 and data.energy_efficiency < best_energy_efficiency:\n",
    "          best_energy_efficiency = data.energy_efficiency\n",
    "    excitation_params = ''.join([f'{key}={data[key]: <12}; ' for key in de.excitation_args])\n",
    "    print(f'index: {data.ID: >8}/{len(cpars)};   error_code: {data.error_code: >4};   steps: {data.steps: <8};   runtime: {data.elapsed_time: 6.2f} [s]   |   '+\n",
    "            f'R_E={1e6*data.R_E: 6.2f} [um];  {excitation_params}   |   ' +\n",
    "            f'{de.target_specie} production: {data.energy_efficiency: e} [MJ/kg] (best: {best_energy_efficiency: .1f} [MJ/kg])'+\n",
    "            '                                                 ', end='\\r')\n",
    "              \n",
    "end = time.time()\n",
    "elapsed = end - start\n",
    "print(f'\\n\\nDONE')\n",
    "print(f'total time: {(elapsed / 3600): .0f} hours {((elapsed % 3600) / 60): .0f} mins')\n",
    "print(f'            {elapsed: .2f} [s]   ({(elapsed / len(    cpars)): .2f} [s/run])')"
   ]
  },
  {
   "cell_type": "code",
   "execution_count": 19,
   "metadata": {},
   "outputs": [
    {
     "name": "stdout",
     "output_type": "stream",
     "text": [
      "steps:  13502\n",
      "elapsed_time:  3628.02 [s];  avarege:  34.648 [s/run]\n",
      "good: 97 [%]\n",
      "solver/timeout/fatal [%]: 2;  1;  0\n"
     ]
    }
   ],
   "source": [
    "runtimes = [data['elapsed_time'] for data in good]\n",
    "steps = [data['steps'] for data in good]\n",
    "print(f'steps: {np.mean(steps): .0f}')\n",
    "print(f'elapsed_time: {elapsed: .2f} [s];  avarege: {(np.mean(runtimes)): .3f} [s/run]')\n",
    "print(f'good: {len(good)} [%]')\n",
    "codes = [data[\"error_code\"]%10 for data in bad]\n",
    "print(f'solver/timeout/fatal [%]: {len([x for x in codes if x == 1])};  ', end='')\n",
    "print(f'{len([x for x in codes if x == 2])};  ', end='')\n",
    "print(f'{len([x for x in codes if x == 3])}')"
   ]
  },
  {
   "cell_type": "code",
   "execution_count": 3,
   "metadata": {},
   "outputs": [
    {
     "data": {
      "image/png": "[encoded data removed]",
      "text/plain": [
       "<Figure size 1600x300 with 1 Axes>"
      ]
     },
     "metadata": {},
     "output_type": "display_data"
    }
   ],
   "source": [
    "solver =  ['single thread', 'multithread', 'no JIT',]\n",
    "runtime = [1.925,   0.556,   36.28,    ]\n",
    "\n",
    "\n",
    "plt.rcParams.update({'font.size': 18})\n",
    "fig = plt.figure(figsize=(16, 3))\n",
    "ax = fig.add_subplot(axisbelow=True)\n",
    "ax.barh(solver, runtime, height=0.4, label='Runtime [s]', color='green')\n",
    "\n",
    "ax.grid(color='k', axis='x', linestyle=':', alpha=0.7, zorder=0)\n",
    "ax.invert_yaxis()\n",
    "ax.set_xlabel('Average runtime [s]')\n",
    "ax.yaxis.set_ticks_position('none')\n",
    "\n",
    "# add data labels\n",
    "for i, bar in enumerate(ax.patches):\n",
    "    if i == 2:\n",
    "        ax.text(bar.get_width()-0.05, bar.get_y()+0.22, f'{bar.get_width(): .2f} s',\n",
    "                fontsize = 16, fontweight ='normal', verticalalignment='center', horizontalalignment='right',\n",
    "                color ='white')\n",
    "    else:\n",
    "         ax.text(bar.get_width()+0.05, bar.get_y()+0.22, f'{bar.get_width(): .2f} s',\n",
    "                fontsize = 16, fontweight ='normal', verticalalignment='center', horizontalalignment='left',\n",
    "                color ='black')\n",
    "         \n",
    "fig.savefig(r\"D:\\BME_OneDrive\\BME-7\\Szakdolgozat\\runtime_opt.svg\", bbox_inches='tight')"
   ]
  },
  {
   "cell_type": "code",
   "execution_count": 25,
   "metadata": {},
   "outputs": [
    {
     "data": {
      "image/png": "[encoded data removed]",
      "text/plain": [
       "<Figure size 1600x300 with 1 Axes>"
      ]
     },
     "metadata": {},
     "output_type": "display_data"
    }
   ],
   "source": [
    "solver =  ['LSODE', 'Radau', 'BDF',     ]\n",
    "runtime = [3.042,   9.705,   675.12,    ]\n",
    "fails =   [8.0,     34.0,    0.0,       ]\n",
    "steps =   [13530,   11214,   70958,     ]\n",
    "\n",
    "plt.rcParams.update({'font.size': 18})\n",
    "fig = plt.figure(figsize=(16, 3))\n",
    "ax = fig.add_subplot(axisbelow=True)\n",
    "ax.barh(solver, runtime, height=0.4, label='Runtime [s]', color='green')\n",
    "\n",
    "ax.grid(color='k', axis='x', linestyle=':', alpha=0.7, zorder=0)\n",
    "ax.invert_yaxis()\n",
    "ax.set_xlabel('Average runtime [s]')\n",
    "ax.yaxis.set_ticks_position('none')\n",
    "\n",
    "# add data labels\n",
    "for i, bar in enumerate(ax.patches):\n",
    "    if i == 2:\n",
    "        ax.text(bar.get_width()-3.5, bar.get_y()+0.22, f'{bar.get_width(): .2f} s',\n",
    "                fontsize = 16, fontweight ='normal', verticalalignment='center', horizontalalignment='right',\n",
    "                color ='white')\n",
    "    else:\n",
    "         ax.text(bar.get_width()+3.5, bar.get_y()+0.22, f'{bar.get_width(): .2f} s',\n",
    "                fontsize = 16, fontweight ='normal', verticalalignment='center', horizontalalignment='left',\n",
    "                color ='black')\n",
    "         \n",
    "fig.savefig(r\"D:\\BME_OneDrive\\BME-7\\Szakdolgozat\\runtime_solvers.svg\", bbox_inches='tight')"
   ]
  }
 ],
 "metadata": {
  "kernelspec": {
   "display_name": "Python 3 (ipykernel)",
   "language": "python",
   "name": "python3"
  },
  "language_info": {
   "codemirror_mode": {
    "name": "ipython",
    "version": 3
   },
   "file_extension": ".py",
   "mimetype": "text/x-python",
   "name": "python",
   "nbconvert_exporter": "python",
   "pygments_lexer": "ipython3",
   "version": "3.10.11"
  },
  "vscode": {
   "interpreter": {
    "hash": "82bdb1de78d07c46b3c7786b6732da9a3bdbb8393012f65f5b4f35977248bea0"
   }
  }
 },
 "nbformat": 4,
 "nbformat_minor": 4
}
