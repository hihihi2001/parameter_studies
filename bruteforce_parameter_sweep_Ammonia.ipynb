{
 "cells": [
  {
   "cell_type": "code",
   "execution_count": 1,
   "metadata": {},
   "outputs": [
    {
     "name": "stdout",
     "output_type": "stream",
     "text": [
      "path=Bubble_dynamics_simulation/INP file examples/chem_Otomo2018_without_O.inp\n",
      "\u001b[34mNote, lambda value for specie 'H' is not in data.py: 0.0 is used\u001b[0m\n",
      "\u001b[34mNote, lambda value for specie 'NH2' is not in data.py: 0.0 is used\u001b[0m\n",
      "\u001b[34mNote, lambda value for specie 'NH' is not in data.py: 0.0 is used\u001b[0m\n",
      "\u001b[34mNote, lambda value for specie 'N' is not in data.py: 0.0 is used\u001b[0m\n",
      "\u001b[34mNote, lambda value for specie 'NNH' is not in data.py: 0.0 is used\u001b[0m\n",
      "\u001b[34mNote, lambda value for specie 'N2H4' is not in data.py: 0.0 is used\u001b[0m\n",
      "\u001b[34mNote, lambda value for specie 'N2H3' is not in data.py: 0.0 is used\u001b[0m\n",
      "\u001b[34mNote, lambda value for specie 'N2H2' is not in data.py: 0.0 is used\u001b[0m\n",
      "\u001b[34mNote, lambda value for specie 'H2NN' is not in data.py: 0.0 is used\u001b[0m\n",
      "\u001b[33mWarning, third body 'H2O' is not in species in line 64 (' H2/2.5/ H2O/12/ AR/0.0/ ') in reaction 'H2+M=H+H+M'\u001b[0m\n",
      "\u001b[33mWarning, third body 'AR' is not in species in line 64 (' H2/2.5/ H2O/12/ AR/0.0/ ') in reaction 'H2+M=H+H+M'\u001b[0m\n",
      "model: chem_Otomo2018_without_O\n",
      "File 'parameters.py' succesfully created\n",
      "chem_Otomo2018_without_O\n"
     ]
    }
   ],
   "source": [
    "\"\"\"Create parameters.py from a .inp and load it\"\"\"\n",
    "# This cell is facultative, you can use an existing parameters.py\n",
    "\n",
    "# Directory for .inp file:\n",
    "path = 'Bubble_dynamics_simulation/INP file examples/chem_Otomo2018_without_O.inp'\n",
    "\n",
    "# import libraries:\n",
    "import importlib   # for reloading your own files\n",
    "from termcolor import colored   # for colored error messages\n",
    "# my own files:\n",
    "try:\n",
    "    import inp_data_extractor as inp\n",
    "except:\n",
    "    try:\n",
    "        import Bubble_dynamics_simulation.inp_data_extractor as inp\n",
    "    except:\n",
    "        print(colored(f'Error, \\'inp_data_extractor.py\\' not found', 'red'))\n",
    "importlib.reload(inp)\n",
    "\n",
    "# create parameters.py\n",
    "inp.extract(path)\n",
    "\n",
    "# load parameters.py\n",
    "import parameters as par\n",
    "importlib.reload(par)\n",
    "print(par.model)"
   ]
  },
  {
   "cell_type": "code",
   "execution_count": 2,
   "metadata": {},
   "outputs": [
    {
     "name": "stdout",
     "output_type": "stream",
     "text": [
      "model: chem_Otomo2018_without_O\n",
      "target specie: NH3\n",
      "excitation: sin_impulse (control parameters: ['p_A', 'freq', 'n'])\n",
      "enable heat transfer: \u001b[32mTrue\u001b[0m\tenable evaporation: \u001b[31mFalse\u001b[0m\tenable reactions: \u001b[32mTrue\u001b[0m\tenable dissipated energy: \u001b[32mTrue\u001b[0m\n"
     ]
    }
   ],
   "source": [
    "\"\"\"Libraries\"\"\"\n",
    "\n",
    "# for plotting:\n",
    "%matplotlib inline\n",
    "import matplotlib.pyplot as plt\n",
    "plt.rcParams.update({'font.size': 18})\n",
    "\n",
    "import numpy as np   # matrices, math\n",
    "import time   # runtime measurement\n",
    "from multiprocessing import Pool, cpu_count   # multithreading\n",
    "import importlib   # reload changes you made\n",
    "import itertools   # assemble all combinations of control parameters\n",
    "import json   # convert dictionary to string\n",
    "\n",
    "# my own file:\n",
    "already_imported = 'de' in globals()\n",
    "try:\n",
    "    import full_bubble_model as de\n",
    "except:\n",
    "    try:\n",
    "        import Bubble_dynamics_simulation.full_bubble_model as de\n",
    "    except:\n",
    "        print(colored(f'Error, \\'full_bubble_model.py\\' not found', 'red'))\n",
    "if already_imported: importlib.reload(de)   # reload changes you made"
   ]
  },
  {
   "cell_type": "code",
   "execution_count": 5,
   "metadata": {},
   "outputs": [
    {
     "name": "stdout",
     "output_type": "stream",
     "text": [
      "R_E: 10\n",
      "ratio: 1\n",
      "P_amb: 5\n",
      "T_inf: 1\n",
      "alfa_M: 2\n",
      "c_L: 1\n",
      "surfactant: 1\n",
      "p_A: 7\n",
      "freq: 6\n",
      "n: 3\n",
      "_________________________\n",
      "total combinations: 12600\n"
     ]
    }
   ],
   "source": [
    "\"\"\"Control parameter ranges and division\"\"\"\n",
    "# a list for each control parameter, containing all the possible values\n",
    "\n",
    "ranges = dict(\n",
    "  # Initial conditions:\n",
    "    # bubble equilibrium radius [m]\n",
    "    R_E = [1e-6*x for x in [1.0, 2.0, 3.0, 4.0, 5.0, 7.5, 10.0, 15.0, 20.0, 25.0]], # [um --> m]\n",
    "    # initial radius / equilibrium radius R_0/R_E [-]\n",
    "    ratio = [1.0],\n",
    "  # Ambient parameters:\n",
    "    # ambient pressure [Pa]\n",
    "    P_amb = [x * par.atm2Pa for x in [0.5, 1.0, 1.5, 2.0, 5.0]], # [atm --> Pa]\n",
    "    # ambient temperature [K]       \n",
    "    T_inf = [par.absolute_zero + x for x in [30.0]], # [°C --> K]\n",
    "  # Liquid parameters:\n",
    "    # water accommodation coefficient [-]\n",
    "    alfa_M = [0.05, 0.35],\n",
    "    #P_v = par.P_v,                    # vapour pressure [Pa]\n",
    "    #mu_L = par.mu_L,                  # dynamic viscosity [Pa*s]\n",
    "    # sound speed [m/s]\n",
    "    c_L = [par.c_L],\n",
    "    # surfactant (surface tension modfier) [-]\n",
    "    surfactant = [1.0],\n",
    "  # Excitation parameters: (excitation_type = no_excitation)\n",
    "    # pressure amplitude [Pa]\n",
    "    p_A = [x * 1e5 for x in [0.5, 1.0, 1.5, 2.0, 2.5, 3.0, 5.0]], # [bar --> Pa]\n",
    "    # frequency [Hz]\n",
    "    freq = [1.0e3, 5.0e3, 10.0e3, 20.0e3, 50.0e3, 100.0e3],\n",
    "    # number of cycles [-]\n",
    "    n = [0.5, 1.0, 2.0],\n",
    ")\n",
    "\n",
    "# print total combinations:\n",
    "for key in ranges:\n",
    "    print(f'{key}: {len(ranges[key])}')\n",
    "total_combinations = f'total combinations: {np.prod([len(ranges[key]) for key in ranges])}'\n",
    "print(''.join(['_' for i in range(len(total_combinations))]))\n",
    "print(total_combinations)"
   ]
  },
  {
   "cell_type": "code",
   "execution_count": 6,
   "metadata": {},
   "outputs": [
    {
     "name": "stdout",
     "output_type": "stream",
     "text": [
      "Assemble cpars: 0.06 s\n",
      "Assemble kwargs_list: 0.19 s\n"
     ]
    }
   ],
   "source": [
    "\"\"\"Get all combinations\"\"\"\n",
    "# Make a list, with one dictionary for eachy parameter combinations\n",
    "\n",
    "start = time.time()\n",
    "cpars = []\n",
    "ID = 1\n",
    "for values in itertools.product(*ranges.values()):\n",
    "    cpar = dict(zip(ranges.keys(), values))\n",
    "    cpar['ID'] = ID                      # ID of control parameter (not used during calculation)\n",
    "    cpar['gases'] = [par.index['H2'], par.index['N2']]    # indexes of species in initial bubble (list of species indexes)\n",
    "    cpar['fractions'] = [0.75, 0.25]            # molar fractions of species in initial bubble (list of fractions for every gas)\n",
    "    # Calculate pressure/temperature dependent parameters:\n",
    "    cpar['mu_L'] = de.Viscosity(cpar['T_inf'])\n",
    "    cpar['P_v'] = de.VapourPressure(cpar['T_inf'])\n",
    "    cpars.append(cpar)\n",
    "    ID += 1\n",
    "\n",
    "print(f'Assemble cpars: {time.time()-start:.2f} s')\n",
    "start = time.time()\n",
    "\n",
    "# Create input dictionary for de.simulate(), a list of dictionaries with cpar and other arguments\n",
    "kwargs_list = [dict(cpar=cpar, t_int=np.array([0.0, 1.0]), LSODA_timeout=50, Radau_timeout=0) for cpar in cpars]\n",
    "end = time.time()\n",
    "print(f'Assemble kwargs_list: {time.time()-start:.2f} s')"
   ]
  },
  {
   "cell_type": "code",
   "execution_count": 7,
   "metadata": {},
   "outputs": [
    {
     "name": "stdout",
     "output_type": "stream",
     "text": [
      "Folder already exists with 0 csv in it\n"
     ]
    }
   ],
   "source": [
    "\"\"\"Save settings as txt\"\"\"\n",
    "\n",
    "# create folder for parameter study results:\n",
    "file = de.Make_dir('test 1')\n",
    "\n",
    "# save all settings (full_bubble_model.py, parameters.py, ranges) as txt:\n",
    "combined_str = f'''parameters settings:\n",
    "    model = {par.model}\n",
    "    species = {par.species}\n",
    "    number of species = {par.K}\n",
    "    number of reactions = {par.I}\n",
    "\n",
    "full_bubble_model settings:\n",
    "    enable_heat_transfer = {de.enable_heat_transfer}\n",
    "    enable_evaporation = {de.enable_evaporation} \n",
    "    enable_reactions = {de.enable_reactions}\n",
    "    enable_dissipated_energy = {de.enable_dissipated_energy}\n",
    "    target_specie = \\'{de.target_specie}\\' # Specie to calculate energy effiqiency\n",
    "    excitation_type = \\'{de.excitation_type}\\' # function to calculate pressure excitation\n",
    "\n",
    "total_combinations = {np.prod([len(ranges[key]) for key in ranges])}\n",
    "ranges = {json.dumps(ranges, indent=4)}'''\n",
    "\n",
    "file.write_string(combined_str, 'brutefroce_parameter_sweep_settings')"
   ]
  },
  {
   "cell_type": "code",
   "execution_count": 8,
   "metadata": {},
   "outputs": [
    {
     "name": "stdout",
     "output_type": "stream",
     "text": [
      "index: 8/12600,   error_code:    0,   steps: 5942,   runtime:  2.28 [s]   |   R_E= 1.00 [um]; ratio= 1.00 [-]; P_amb= 0.51 [bar]; alfa_M= 0.05 [-]; T_inf= 30.00 [°C]; surfactant= 100 [%]   |   NH3 production:  477064866918646237817302385272098328134535734405573839437943148763792237494173064220261237156696786017225127831927783424.0 [MJ/kg] (best:  1000000000000000019884624838656.0 [MJ/kg])                                                 \r"
     ]
    }
   ],
   "source": [
    "\"\"\"Parameter study, multithread\"\"\"\n",
    "# Runs each combinations in cpars, and saves the results into CSV files\n",
    "# use Pool(processes=cpu_count()-1) to limit number of threads being used.\n",
    "# use pool.imap(...) instead of pool.imap_unordered(...) to preserve order in which cpars was made\n",
    "\n",
    "max_lines = 2000    # maximum length of a CSV\n",
    "best_energy_efficiency = 1e30\n",
    "\n",
    "start = time.time()\n",
    "file.new_file()\n",
    "with Pool(processes=cpu_count(), maxtasksperchild=100) as pool:\n",
    "    results = pool.imap_unordered(de.simulate, kwargs_list)\n",
    "\n",
    "    for data in results:\n",
    "      # save results:\n",
    "        if file.lines > max_lines:\n",
    "            file.close()\n",
    "            file.new_file()\n",
    "        data = de.dotdict(data)\n",
    "        file.write_line(data)\n",
    "      # print stuff:\n",
    "        if data.energy_efficiency > 0 and data.energy_efficiency < best_energy_efficiency:\n",
    "            best_energy_efficiency = data.energy_efficiency\n",
    "        print(f'index: {data.ID}/{len(cpars)},   error_code: {data.error_code: >4},   steps: {data.steps},   runtime: {data.elapsed_time: .2f} [s]   |   '+\n",
    "              f'R_E={1e6*data.R_E: .2f} [um]; ratio={data.ratio: .2f} [-]; P_amb={1e-5*data.P_amb: .2f} [bar]; alfa_M={data.alfa_M: .2f} [-]; '+\n",
    "              f'T_inf={data.T_inf-273.15: .2f} [°C]; surfactant={100*data.surfactant: .0f} [%]   |   {de.target_specie} production: {data.energy_efficiency: .1f} [MJ/kg] '+\n",
    "              f'(best: {best_energy_efficiency: .1f} [MJ/kg])                                                 ', end='\\r')\n",
    "            \n",
    "file.close()\n",
    "end = time.time()\n",
    "elapsed = end - start\n",
    "print(f'\\n\\nDONE')\n",
    "print(f'total time: {(elapsed / 3600): .0f} hours {((elapsed % 3600) / 60): .0f} mins')\n",
    "print(f'            {elapsed: .2f} [s]   ({(elapsed / len(    cpars)): .2f} [s/run])')"
   ]
  }
 ],
 "metadata": {
  "kernelspec": {
   "display_name": "Python 3 (ipykernel)",
   "language": "python",
   "name": "python3"
  },
  "language_info": {
   "codemirror_mode": {
    "name": "ipython",
    "version": 3
   },
   "file_extension": ".py",
   "mimetype": "text/x-python",
   "name": "python",
   "nbconvert_exporter": "python",
   "pygments_lexer": "ipython3",
   "version": "3.10.12"
  },
  "vscode": {
   "interpreter": {
    "hash": "82bdb1de78d07c46b3c7786b6732da9a3bdbb8393012f65f5b4f35977248bea0"
   }
  }
 },
 "nbformat": 4,
 "nbformat_minor": 4
}
