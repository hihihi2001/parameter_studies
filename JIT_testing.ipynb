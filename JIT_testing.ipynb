{
 "cells": [
  {
   "cell_type": "code",
   "execution_count": 1,
   "metadata": {},
   "outputs": [],
   "source": [
    "import numpy as np\n",
    "import numba as nb\n",
    "from numba import float64, int64, boolean\n",
    "import time\n",
    "import parameters as par"
   ]
  },
  {
   "cell_type": "code",
   "execution_count": 2,
   "metadata": {},
   "outputs": [],
   "source": [
    "@nb.njit(float64[:](float64, float64, float64[:]))\n",
    "def Excitation(t, P_amb, args):\n",
    "    p_A, freq, n = args\n",
    "    if t < 0.0:\n",
    "        p_Inf = P_amb\n",
    "        p_Inf_dot = 0.0\n",
    "    elif t > n / freq:\n",
    "        p_Inf = P_amb\n",
    "        p_Inf_dot = 0.0\n",
    "    else:\n",
    "        insin = 2.0*np.pi*freq\n",
    "        #insin = 2.0*np.pi*freq\n",
    "        p_Inf = P_amb + p_A*np.sin(insin*t)\n",
    "        p_Inf_dot = p_A*insin*np.cos(insin*t)\n",
    "\n",
    "    return np.array([p_Inf, p_Inf_dot], dtype=np.float64)\n",
    "\n",
    "@nb.njit(float64[:](float64, float64, float64, float64, float64, float64, float64, float64, float64[:]))\n",
    "def Pressure(t, R, R_dot, mu_L, surfactant, p, p_dot, P_amb, args):\n",
    "    p_Inf, p_Inf_dot = Excitation(t, P_amb, args)\n",
    "    p_L = p - (2.0 * surfactant * par.sigma + 4.0 * mu_L * R_dot) / R\n",
    "    p_L_dot = p_dot + (-2.0 * surfactant * par.sigma * R_dot + 4.0 * mu_L * R_dot ** 2) / (R ** 2)\n",
    "    delta = (p_L - p_Inf) / par.rho_L\n",
    "    delta_dot = (p_L_dot - p_Inf_dot) / par.rho_L\n",
    "    return np.array([delta, delta_dot], dtype=np.float64)"
   ]
  },
  {
   "cell_type": "code",
   "execution_count": 3,
   "metadata": {},
   "outputs": [
    {
     "name": "stdout",
     "output_type": "stream",
     "text": [
      "889 ns ± 14.4 ns per loop (mean ± std. dev. of 7 runs, 1,000,000 loops each)\n"
     ]
    },
    {
     "data": {
      "text/plain": [
       "array([-144.19955921,    0.        ])"
      ]
     },
     "execution_count": 3,
     "metadata": {},
     "output_type": "execute_result"
    }
   ],
   "source": [
    "args = np.array([-1e5, 10e3, 1.0], dtype=np.float64)\n",
    "t = 0.1; R = 1e-6; R_dot = 0.0; mu_L = 1e-3; surfactant = 1.0; p = 1e5; p_dot = 0.0; P_amb = 1e5\n",
    "%timeit Pressure(t, R, R_dot, mu_L, surfactant, p, p_dot, P_amb, args)\n",
    "Pressure(t, R, R_dot, mu_L, surfactant, p, p_dot, P_amb, args)"
   ]
  },
  {
   "cell_type": "code",
   "execution_count": 4,
   "metadata": {},
   "outputs": [
    {
     "name": "stdout",
     "output_type": "stream",
     "text": [
      "374 ns ± 3.62 ns per loop (mean ± std. dev. of 7 runs, 1,000,000 loops each)\n"
     ]
    },
    {
     "data": {
      "text/plain": [
       "(-144.19955920657185, 0.0)"
      ]
     },
     "execution_count": 4,
     "metadata": {},
     "output_type": "execute_result"
    }
   ],
   "source": [
    "@nb.njit(nb.types.Tuple((float64, float64))(float64, float64, float64[:]))\n",
    "def Excitation(t, P_amb, args):\n",
    "    p_A, freq, n = args\n",
    "    if t < 0.0:\n",
    "        p_Inf = P_amb\n",
    "        p_Inf_dot = 0.0\n",
    "    elif t > n / freq:\n",
    "        p_Inf = P_amb\n",
    "        p_Inf_dot = 0.0\n",
    "    else:\n",
    "        insin = 2.0*np.pi*freq\n",
    "        p_Inf = P_amb + p_A*np.sin(insin*t)\n",
    "        p_Inf_dot = p_A*insin*np.cos(insin*t)\n",
    "\n",
    "    return p_Inf, p_Inf_dot\n",
    "\n",
    "@nb.njit(nb.types.Tuple((float64, float64))(float64, float64, float64, float64, float64, float64, float64, float64, float64[:]))\n",
    "def Pressure(t, R, R_dot, mu_L, surfactant, p, p_dot, P_amb, args):\n",
    "    p_Inf, p_Inf_dot = Excitation(t, P_amb, args)\n",
    "    p_L = p - (2.0 * surfactant * par.sigma + 4.0 * mu_L * R_dot) / R\n",
    "    p_L_dot = p_dot + (-2.0 * surfactant * par.sigma * R_dot + 4.0 * mu_L * R_dot ** 2) / (R ** 2)\n",
    "    delta = (p_L - p_Inf) / par.rho_L\n",
    "    delta_dot = (p_L_dot - p_Inf_dot) / par.rho_L\n",
    "    return delta, delta_dot\n",
    "\n",
    "%timeit Pressure(t, R, R_dot, mu_L, surfactant, p, p_dot, P_amb, args)\n",
    "Pressure(t, R, R_dot, mu_L, surfactant, p, p_dot, P_amb, args)"
   ]
  },
  {
   "cell_type": "code",
   "execution_count": 5,
   "metadata": {},
   "outputs": [
    {
     "name": "stdout",
     "output_type": "stream",
     "text": [
      "138 ms ± 1.49 ms per loop (mean ± std. dev. of 7 runs, 10 loops each)\n"
     ]
    }
   ],
   "source": [
    "def generate(mu_L, surfactant, p, p_dot, P_amb, p_A, freq, n):\n",
    "    insin = 2.0*np.pi*freq\n",
    "    n_per_freq = n / freq\n",
    "    @nb.njit(nb.types.Tuple((nb.float64, nb.float64))(float64))\n",
    "    def Excitation(t):\n",
    "        if t < 0.0:\n",
    "            p_Inf = P_amb\n",
    "            p_Inf_dot = 0.0\n",
    "        elif t > n_per_freq:\n",
    "            p_Inf = P_amb\n",
    "            p_Inf_dot = 0.0\n",
    "        else:\n",
    "            p_Inf = P_amb + p_A*np.sin(insin*t)\n",
    "            p_Inf_dot = p_A*insin*np.cos(insin*t)\n",
    "\n",
    "        return p_Inf, p_Inf_dot\n",
    "\n",
    "    @nb.njit(nb.types.Tuple((nb.float64, nb.float64))(float64, float64, float64, float64, float64))\n",
    "    def Pressure(t, R, R_dot, p, p_dot):\n",
    "        p_Inf, p_Inf_dot = Excitation(t)\n",
    "        p_L = p - (2.0 * surfactant * par.sigma + 4.0 * mu_L * R_dot) / R\n",
    "        p_L_dot = p_dot + (-2.0 * surfactant * par.sigma * R_dot + 4.0 * mu_L * R_dot ** 2) / (R ** 2)\n",
    "        delta = (p_L - p_Inf) / par.rho_L\n",
    "        delta_dot = (p_L_dot - p_Inf_dot) / par.rho_L\n",
    "        return delta, delta_dot\n",
    "\n",
    "    return Pressure\n",
    "\n",
    "%timeit generate(mu_L, surfactant, p, p_dot, P_amb, *args)"
   ]
  },
  {
   "cell_type": "code",
   "execution_count": 6,
   "metadata": {},
   "outputs": [
    {
     "name": "stdout",
     "output_type": "stream",
     "text": [
      "188 ns ± 0.418 ns per loop (mean ± std. dev. of 7 runs, 10,000,000 loops each)\n"
     ]
    }
   ],
   "source": [
    "Pressure = generate(mu_L, surfactant, p, p_dot, P_amb, *args)\n",
    "%timeit Pressure(t, R, R_dot, p, p_dot)"
   ]
  },
  {
   "cell_type": "code",
   "execution_count": 7,
   "metadata": {},
   "outputs": [
    {
     "name": "stdout",
     "output_type": "stream",
     "text": [
      "48728565676.0\n",
      "274 ns ± 8.25 ns per loop (mean ± std. dev. of 7 runs, 1,000,000 loops each)\n",
      "48728565676.0\n",
      "77.9 ns ± 0.574 ns per loop (mean ± std. dev. of 7 runs, 10,000,000 loops each)\n"
     ]
    }
   ],
   "source": [
    "a=np.linspace(1,6,5)\n",
    "\n",
    "@nb.njit\n",
    "def f(T):\n",
    "    T_vec = T ** np.array([0, 1, 2, 3, 4], dtype=np.int64)\n",
    "    return np.sum(a*T_vec)\n",
    "\n",
    "print(f(300.0))\n",
    "%timeit f(300.0)\n",
    "\n",
    "@nb.njit\n",
    "def g(T):\n",
    "    ret = 0.0\n",
    "    for i in range(5):\n",
    "        ret += a[i]*T**i\n",
    "        \n",
    "    return ret\n",
    "\n",
    "print(g(300.0))\n",
    "%timeit g(300.0)"
   ]
  },
  {
   "cell_type": "code",
   "execution_count": 8,
   "metadata": {},
   "outputs": [
    {
     "name": "stdout",
     "output_type": "stream",
     "text": [
      "15.0\n",
      "162 ns ± 1.18 ns per loop (mean ± std. dev. of 7 runs, 10,000,000 loops each)\n",
      "15.0\n",
      "120 ns ± 0.695 ns per loop (mean ± std. dev. of 7 runs, 10,000,000 loops each)\n"
     ]
    }
   ],
   "source": [
    "a=np.array([1.0, 2.0, 3.0, 4.0, 5.0], dtype=np.float64)\n",
    "b = (1.0, 2.0, 3.0, 4.0, 5.0)\n",
    "\n",
    "@nb.njit\n",
    "def f(a):\n",
    "    return a[0] + a[1] + a[2] + a[3] + a[4]\n",
    "\n",
    "print(f(a))\n",
    "%timeit f(a)\n",
    "\n",
    "@nb.njit\n",
    "def g(a, b, c, d, e):       \n",
    "    return a+b+c+d+e\n",
    "\n",
    "print(g(*b))\n",
    "%timeit g(*b)"
   ]
  },
  {
   "cell_type": "code",
   "execution_count": 9,
   "metadata": {},
   "outputs": [
    {
     "name": "stdout",
     "output_type": "stream",
     "text": [
      "264 ns ± 3.07 ns per loop (mean ± std. dev. of 7 runs, 1,000,000 loops each)\n",
      "100 ns ± 1.89 ns per loop (mean ± std. dev. of 7 runs, 10,000,000 loops each)\n"
     ]
    }
   ],
   "source": [
    "@nb.njit\n",
    "def f():\n",
    "    a = np.zeros((10), dtype=np.float64)\n",
    "    b = np.zeros((10), dtype=np.float64)\n",
    "    c = np.zeros((10), dtype=np.float64)\n",
    "    d = np.zeros((10), dtype=np.float64)\n",
    "\n",
    "@nb.njit\n",
    "def g():\n",
    "    a = np.zeros((40), dtype=np.float64)\n",
    "\n",
    "%timeit f()\n",
    "%timeit g()"
   ]
  },
  {
   "cell_type": "markdown",
   "metadata": {},
   "source": [
    "## Start"
   ]
  },
  {
   "cell_type": "code",
   "execution_count": 41,
   "metadata": {},
   "outputs": [],
   "source": [
    "def equal(eps=1e-20, **kwargs):\n",
    "    name1, name2 = kwargs.keys()\n",
    "    a = kwargs[name1]\n",
    "    b = kwargs[name2]\n",
    "    if type(a) == tuple or type(a) == list:\n",
    "        a = np.array(a)\n",
    "        b = np.array(b)\n",
    "    if type(a) == np.ndarray:\n",
    "        if type(a[0]) == np.ndarray:\n",
    "            ret = True\n",
    "            for i, (aa, bb) in enumerate(zip(a, b)):\n",
    "                ret = ret and equal(eps, **{name1+str(i): aa, name2+str(i): bb})\n",
    "            return ret\n",
    "        else:\n",
    "            diff = np.abs(a - b) / (abs(b) + 1e-30)\n",
    "            wrong = np.where(diff > eps)[0]\n",
    "            if len(wrong) > 0:\n",
    "                print(colored(f'{name1} != {name2} at indexes:', 'red'), wrong)\n",
    "                for i in wrong:\n",
    "                    print(f'\\t{i}: {a[i]: e} != {b[i]: e}\\t (diff: {diff[i]: e})')\n",
    "                return False\n",
    "            return True\n",
    "    else:\n",
    "        diff = abs(a - b) / (abs(b) + 1e-30)\n",
    "        if diff > eps:\n",
    "            print(colored(f'{name1} != {name2}', 'red'))\n",
    "            print(f'\\t{a: e} != {b: e}\\t (diff: {diff: e})')\n",
    "            return False\n",
    "        return True"
   ]
  },
  {
   "cell_type": "code",
   "execution_count": 11,
   "metadata": {},
   "outputs": [
    {
     "name": "stdout",
     "output_type": "stream",
     "text": [
      "path=D:/parameter_studies/Bubble_dynamics_simulation/INP file examples/chem_Otomo2018_without_O.inp\n",
      "\u001b[34mNote, lambda value for specie 'H' is not in data.py: 0.0 is used\u001b[0m\n",
      "\u001b[34mNote, lambda value for specie 'NH2' is not in data.py: 0.0 is used\u001b[0m\n",
      "\u001b[34mNote, lambda value for specie 'NH' is not in data.py: 0.0 is used\u001b[0m\n",
      "\u001b[34mNote, lambda value for specie 'N' is not in data.py: 0.0 is used\u001b[0m\n",
      "\u001b[34mNote, lambda value for specie 'NNH' is not in data.py: 0.0 is used\u001b[0m\n",
      "\u001b[34mNote, lambda value for specie 'N2H4' is not in data.py: 0.0 is used\u001b[0m\n",
      "\u001b[34mNote, lambda value for specie 'N2H3' is not in data.py: 0.0 is used\u001b[0m\n",
      "\u001b[34mNote, lambda value for specie 'N2H2' is not in data.py: 0.0 is used\u001b[0m\n",
      "\u001b[34mNote, lambda value for specie 'H2NN' is not in data.py: 0.0 is used\u001b[0m\n",
      "\u001b[33mWarning, third body 'H2O' is not in species in line 64 (' H2/2.5/ H2O/12/ AR/0.0/ ') in reaction 'H2+M=H+H+M'\u001b[0m\n",
      "\u001b[33mWarning, third body 'AR' is not in species in line 64 (' H2/2.5/ H2O/12/ AR/0.0/ ') in reaction 'H2+M=H+H+M'\u001b[0m\n",
      "model: chem_Otomo2018_without_O\n",
      "File 'parameters.py' succesfully created\n",
      "chem_Otomo2018_without_O\n"
     ]
    }
   ],
   "source": [
    "\"\"\"Create parameters.py and load it\"\"\"\n",
    "\n",
    "# Directory for .inp file:\n",
    "path = 'D:/parameter_studies/Bubble_dynamics_simulation/INP file examples/chem_Otomo2018_without_O.inp'\n",
    "\n",
    "# import libraries:\n",
    "import importlib   # For reloading your own files\n",
    "import numpy as np\n",
    "# my own files:\n",
    "import Bubble_dynamics_simulation.inp_data_extractor as inp   # numeric constants and coefficents\n",
    "importlib.reload(inp)   # reload changes you made\n",
    "inp.extract(path)\n",
    "\n",
    "import parameters as par   # numeric constants and coefficents\n",
    "importlib.reload(par)   # reload changes you made\n",
    "print(par.model)"
   ]
  },
  {
   "cell_type": "code",
   "execution_count": 12,
   "metadata": {},
   "outputs": [
    {
     "name": "stdout",
     "output_type": "stream",
     "text": [
      "model: chem_Otomo2018_without_O\n",
      "target specie: NH3\n",
      "excitation: sin_impulse (control parameters: ['p_A', 'freq', 'n'])\n",
      "enable heat transfer: \u001b[32mTrue\u001b[0m\tenable evaporation: \u001b[31mFalse\u001b[0m\tenable reactions: \u001b[32mTrue\u001b[0m\tenable dissipated energy: \u001b[32mTrue\u001b[0m\n"
     ]
    }
   ],
   "source": [
    "from Bubble_dynamics_simulation import full_bubble_model_old as de"
   ]
  },
  {
   "cell_type": "code",
   "execution_count": 13,
   "metadata": {},
   "outputs": [],
   "source": [
    "from termcolor import colored\n",
    "import matplotlib.pyplot as plt   # for plotting\n",
    "import numpy as np   # matrices, math\n",
    "from scipy.integrate import solve_ivp   # differential equation solver\n",
    "from scipy.signal import argrelmin   # loc min finding\n",
    "import time   # runtime measurement\n",
    "from datetime import datetime   # for accessing current datetime\n",
    "import socket   # for accessing computer name\n",
    "import psutil   # get system information\n",
    "from numba import njit   # Just In Time compiler\n",
    "from numba.types import Tuple, unicode_type, float64, float32, int64, int32   # JIT types\n",
    "from func_timeout import func_timeout, FunctionTimedOut   # for timeout\n",
    "import os    # file management\n",
    "import importlib   # for reloading your own files\n",
    "\n",
    "# my own files:\n",
    "try:\n",
    "    import parameters as par   # numeric constants and coefficents\n",
    "    importlib.reload(par)   # reload changes you made\n",
    "except:\n",
    "    print(print(colored('Error, \\'parameters.py\\' not found','red')))\n",
    "try:\n",
    "    import excitation\n",
    "    importlib.reload(excitation)\n",
    "except:\n",
    "    try:\n",
    "        import Bubble_dynamics_simulation.excitation as excitation\n",
    "        importlib.reload(excitation)\n",
    "    except:\n",
    "        print(colored(f'Error, \\'excitation.py\\' not found', 'red'))\n",
    "\n",
    "enable_heat_transfer = True\n",
    "enable_evaporation = False\n",
    "enable_reactions = True\n",
    "enable_dissipated_energy = True\n",
    "target_specie = 'NH3' # Specie to calculate energy effiqiency\n",
    "excitation_type = 'sin_impulse' # function to calculate pressure excitation\n",
    "\n",
    "Excitation, excitation_args, excitation_units = excitation.getExcitation(excitation_type=excitation_type)"
   ]
  },
  {
   "cell_type": "code",
   "execution_count": 16,
   "metadata": {},
   "outputs": [],
   "source": [
    "t = 4.26797748831401e-05\n",
    "x = np.array([2.77682627e-07, 7.09472642e+02, 1.00722324e+04, 1.77061349e-01,\n",
    "       7.84400226e-01, 1.03611485e-01, 4.05593217e-01, 5.37429074e-02,\n",
    "       5.76856803e-03, 4.65051672e-02, 3.29928678e-02, 2.11635072e-02,\n",
    "       4.63225690e-03, 3.13284401e-03, 1.24827451e-01, 2.05414031e-05], dtype=np.float64)"
   ]
  },
  {
   "cell_type": "code",
   "execution_count": 17,
   "metadata": {},
   "outputs": [
    {
     "name": "stdout",
     "output_type": "stream",
     "text": [
      "378 ns ± 0.526 ns per loop (mean ± std. dev. of 7 runs, 1,000,000 loops each)\n",
      "899 ns ± 0.799 ns per loop (mean ± std. dev. of 7 runs, 1,000,000 loops each)\n"
     ]
    }
   ],
   "source": [
    "@njit(Tuple((float64, float64))(float64, float64, float64, float64, float64, float64, float64, float64, float64[:]))\n",
    "def Pressure(t, R, R_dot, mu_L, surfactant, p, p_dot, P_amb, args):\n",
    "    (p_Inf, p_Inf_dot) = Excitation(t, P_amb, args)\n",
    "    p_L = p - (2.0 * surfactant * par.sigma + 4.0 * mu_L * R_dot) / R\n",
    "    p_L_dot = p_dot + (-2.0 * surfactant * par.sigma * R_dot + 4.0 * mu_L * R_dot ** 2) / (R ** 2)\n",
    "    delta = (p_L - p_Inf) / par.rho_L\n",
    "    delta_dot = (p_L_dot - p_Inf_dot) / par.rho_L\n",
    "    return delta, delta_dot\n",
    "\n",
    "%timeit Pressure(t, 10e-6, 0.0, 0.001, 1.0, 1e5, 0.0, 1e5, args)\n",
    "%timeit de.Pressure(t, 10e-6, 0.0, 0.001, 1.0, 1e5, 0.0, 1e5, args)\n",
    "equal(new=Pressure(t, 10e-6, 0.0, 0.001, 1.0, 1e5, 0.0, 1e5, args), old=de.Pressure(t, 10e-6, 0.0, 0.001, 1.0, 1e5, 0.0, 1e5, args))"
   ]
  },
  {
   "cell_type": "code",
   "execution_count": 170,
   "metadata": {},
   "outputs": [],
   "source": [
    "# returns molar heat capacities, enthalpies and entropies\n",
    "@njit(float64[:, :](float64))\n",
    "def Thermodynamic(T):\n",
    "    ret = np.zeros((4, par.K), dtype=np.float64)   # [C_p, H, S, C_v]\n",
    "    for k in range(par.K):\n",
    "    # get coefficients for T\n",
    "        if T <= par.TempRange[k][2]: # T <= T_mid\n",
    "            a = par.a_low[k]\n",
    "        else:  # T_mid < T\n",
    "            a = par.a_high[k]\n",
    "    # calculate sums\n",
    "        C_p = H = S = 0.0\n",
    "        for n in range(par.N): # [0, 1, 2, 3, 4]\n",
    "            T_pow = T**n\n",
    "            C_p += a[n] * T_pow\n",
    "            H += a[n] * T_pow / float64(n+1)\n",
    "            if n != 0:\n",
    "                S += a[n] * T_pow / float64(n)\n",
    "    # calculations outside the sums\n",
    "        # Molar heat capacities at constant pressure (isobaric) [erg/mol/K]\n",
    "        ret[0][k] = par.R_erg * C_p\n",
    "        # Enthalpies [erg/mol]\n",
    "        ret[1][k] = par.R_erg * (T * H + a[par.N])\n",
    "        # Entropies [erg/mol/K]\n",
    "        ret[2][k] = par.R_erg * (a[0] * np.log(T) + S + a[par.N+1])\n",
    "        # Molar heat capacities at constant volume (isochoric) [erg/mol/K]\n",
    "        ret[3][k] = ret[0][k] - par.R_erg\n",
    "\n",
    "    return ret"
   ]
  },
  {
   "cell_type": "code",
   "execution_count": 171,
   "metadata": {},
   "outputs": [
    {
     "name": "stdout",
     "output_type": "stream",
     "text": [
      "573 ns ± 7.79 ns per loop (mean ± std. dev. of 7 runs, 1,000,000 loops each)\n",
      "4.43 µs ± 19.6 ns per loop (mean ± std. dev. of 7 runs, 100,000 loops each)\n"
     ]
    },
    {
     "data": {
      "text/plain": [
       "True"
      ]
     },
     "execution_count": 171,
     "metadata": {},
     "output_type": "execute_result"
    }
   ],
   "source": [
    "T = 10102.835510879857\n",
    "%timeit Thermodynamic(T)\n",
    "c = x[3:3+par.K]\n",
    "%timeit de.Thermodynamic(c, T)\n",
    "equal(new=Thermodynamic(T), old=de.Thermodynamic(c, T), eps=1e-100)"
   ]
  },
  {
   "cell_type": "code",
   "execution_count": 23,
   "metadata": {},
   "outputs": [],
   "source": [
    "@njit(Tuple((float64, float64))(float64, float64, float64, float64, float64, float64))\n",
    "def Evaporation(p, T, X_H2O, alfa_M, T_inf, P_v):\n",
    "# condensation and evaporation\n",
    "    p_H2O = X_H2O * p\n",
    "    n_eva_dot = 1.0e3 * alfa_M * P_v / (par.W[par.indexOfWater] * np.sqrt(2.0 * np.pi * par.R_v * T_inf))\n",
    "    n_con_dot = 1.0e3 * alfa_M * p_H2O / (par.W[par.indexOfWater] * np.sqrt(2.0 * np.pi * par.R_v * T))\n",
    "    n_net_dot = n_eva_dot - n_con_dot\n",
    "# Molar heat capacity of water at constant volume (isochoric) [J/mol/K]\n",
    "    # get coefficients for T\n",
    "    if T <= par.TempRange[par.indexOfWater][2]: # T <= T_mid\n",
    "        a = par.a_low[par.indexOfWater]\n",
    "    else:  # T_mid < T\n",
    "        a = par.a_high[par.indexOfWater]\n",
    "    # calculate sum\n",
    "    T_pow = 1.0\n",
    "    C_V = 0.0\n",
    "    for n in range(1, par.N+1): # [1, 2, 3, 4, 5]\n",
    "        C_V += a[n-1] * T_pow\n",
    "        T_pow *= T\n",
    "    C_V = par.R_erg * (C_V - 1.0)\n",
    "    \n",
    "    # get coefficients for T\n",
    "    if T_inf <= par.TempRange[par.indexOfWater][2]: # T_inf <= T_mid\n",
    "        a = par.a_low[par.indexOfWater]\n",
    "    else:  # T_mid < T_inf\n",
    "        a = par.a_high[par.indexOfWater]\n",
    "    # calculate sum\n",
    "    T_pow = 1.0\n",
    "    C_V_inf = 0.0\n",
    "    for n in range(1, par.N+1): # [1, 2, 3, 4, 5]\n",
    "        C_V_inf += a[n-1] * T_pow\n",
    "        T_pow *= T_inf\n",
    "    C_V_inf = par.R_erg * (C_V_inf - 1.0)\n",
    "# Evaporation energy [J/mol]\n",
    "    e_eva = C_V_inf * T_inf * 1e-7\n",
    "    e_con = C_V * T * 1e-7\n",
    "    evap_energy = n_eva_dot * e_eva - n_con_dot * e_con    # [W/m^2]\n",
    "    \n",
    "    return n_net_dot, evap_energy"
   ]
  },
  {
   "cell_type": "code",
   "execution_count": 24,
   "metadata": {},
   "outputs": [
    {
     "name": "stdout",
     "output_type": "stream",
     "text": [
      "289 ns ± 3.36 ns per loop (mean ± std. dev. of 7 runs, 1,000,000 loops each)\n",
      "1.26 µs ± 6.23 ns per loop (mean ± std. dev. of 7 runs, 1,000,000 loops each)\n"
     ]
    }
   ],
   "source": [
    "M = np.sum(c); X_H2O = c[par.indexOfWater]/M; alfa_M = 0.35; T_inf = 300.0; P_v = par.P_v\n",
    "p = 0.1 * M * par.R_erg * T\n",
    "C_p, H, S, C_v = Thermodynamic(T)\n",
    "%timeit Evaporation(p, T, X_H2O, alfa_M, T_inf, P_v)\n",
    "%timeit de.Evaporation(M, T, X_H2O, alfa_M, T_inf, P_v)\n",
    "equal(old=Evaporation(p, T, X_H2O, alfa_M, T_inf, P_v), new=de.Evaporation(M, T, X_H2O, alfa_M, T_inf, P_v), eps=1e-100)"
   ]
  },
  {
   "cell_type": "code",
   "execution_count": 25,
   "metadata": {},
   "outputs": [],
   "source": [
    "@njit(float64[:](float64, float64[:], float64, float64))\n",
    "def ForwardRate(T, M_eff, M, p):\n",
    "# Reaction rate\n",
    "    k_forward = par.A * T ** par.b * np.exp(-par.E / (par.R_cal * T))\n",
    "    \n",
    "# Pressure dependent reactions\n",
    "    for j, i in enumerate(par.PressureDependentIndexes):    # i is the number of reaction, j is the index of i's place in par.PressureDependentIndexes\n",
    "        k_inf = k_forward[i]    # par.A[i] * T ** par.b[i] * np.exp(-par.E[i] / (par.R_cal * T))\n",
    "        k_0 = par.ReacConst[j][0] * T ** par.ReacConst[j][1] * np.exp(-par.ReacConst[j][2] / (par.R_cal * T))\n",
    "        if i in par.ThirdBodyIndexes:\n",
    "            thirdBodyIndex = 0\n",
    "            while par.ThirdBodyIndexes[thirdBodyIndex] != i:\n",
    "                thirdBodyIndex += 1\n",
    "            M_eff_loc = M_eff[thirdBodyIndex]\n",
    "            thirdBodyIndex += 1\n",
    "        else:\n",
    "            M_eff_loc = M\n",
    "        P_r = k_0 / k_inf * M_eff_loc\n",
    "        \n",
    "        # Lindemann formalism\n",
    "        if i in par.LindemannIndexes:\n",
    "            F = 1.0\n",
    "\n",
    "        # Troe formalism\n",
    "        elif i in par.TroeIndexes:\n",
    "            F_cent = (1.0 - par.Troe[j][0]) * np.exp(-T / par.Troe[j][1]) + par.Troe[j][0] * np.exp(-T / par.Troe[j][2]) + np.exp(-par.Troe[j][3] / T)\n",
    "            logF_cent = np.log10(F_cent)\n",
    "            c2 = -0.4 - 0.67 * logF_cent\n",
    "            n = 0.75 - 1.27 * logF_cent\n",
    "            d = 0.14\n",
    "            logP_r = np.log10(P_r)\n",
    "            logF = 1.0 / (1.0 + ((logP_r + c2) / (n - d * (logP_r + c2))) ** 2) * logF_cent\n",
    "            F = 10.0 ** logF\n",
    "        \n",
    "        # SRI formalism\n",
    "        elif i in par.SRIIndexes: \n",
    "            X = 1.0 / (1.0 + np.log10(P_r)**2)\n",
    "            F = par.SRI[j][3] * (par.SRI[j][0] * np.exp(-par.SRI[j][1] / T) + np.exp(-T / par.SRI[j][2]))**X * T ** par.SRI[j][4]\n",
    "    # Pressure dependent reactions END\n",
    "    \n",
    "        k_forward[i] = k_inf * P_r / (1.0 + P_r) * F\n",
    "\n",
    "# PLOG reactions\n",
    "    for j, i in enumerate(par.PlogIndexes):\n",
    "        if p < par.Plog[3*j+1][0]:\n",
    "            k_1 = par.Plog[3*j][1] * T ** par.Plog[3*j][2] * np.exp(-par.Plog[3*j][3] / (par.R_cal * T))\n",
    "            k_2 = par.Plog[3*j+1][1] * T ** par.Plog[3*j+1][2] * np.exp(-par.Plog[3*j+1][3] / (par.R_cal * T))\n",
    "            ln_k = np.log(k_1) + (np.log(p) - np.log(par.Plog[3*j][0])) / (np.log(par.Plog[3*j+1][0]) - np.log(par.Plog[3*j][0])) * (np.log(k_2) - np.log(k_1))\n",
    "            k_forward[i] = np.exp(ln_k)\n",
    "        else:\n",
    "            k_2 = par.Plog[3*j+1][1] * T ** par.Plog[3*j+1][2] * np.exp(-par.Plog[3*j+1][3] / (par.R_cal * T))\n",
    "            k_3 = par.Plog[3*j+2][1] * T ** par.Plog[3*j+2][2] * np.exp(-par.Plog[3*j+2][3] / (par.R_cal * T))\n",
    "            ln_k = np.log(k_2) + (np.log(p) - np.log(par.Plog[3*j+1][0])) / (np.log(par.Plog[3*j+2][0]) - np.log(par.Plog[3*j+1][0])) * (np.log(k_3) - np.log(k_2))\n",
    "            k_forward[i] = np.exp(ln_k)\n",
    "            \n",
    "    return k_forward"
   ]
  },
  {
   "cell_type": "code",
   "execution_count": 26,
   "metadata": {},
   "outputs": [
    {
     "name": "stdout",
     "output_type": "stream",
     "text": [
      "1.76 µs ± 8.44 ns per loop (mean ± std. dev. of 7 runs, 1,000,000 loops each)\n",
      "1.75 µs ± 14.7 ns per loop (mean ± std. dev. of 7 runs, 1,000,000 loops each)\n"
     ]
    }
   ],
   "source": [
    "M_eff1 = np.zeros((par.ThirdBodyCount), dtype = np.float64)   # effective total concentration of the third-body \n",
    "for j, i in enumerate(par.ThirdBodyIndexes):\n",
    "    M_eff1[j] = np.sum(par.alfa[j] * c)\n",
    "M_eff2 = M * np.ones((par.I), dtype = np.float64)    # effective total concentration of the third-body \n",
    "for j, i in enumerate(par.ThirdBodyIndexes):\n",
    "    M_eff2[i] = np.sum(par.alfa[j] * c) \n",
    "%timeit ForwardRate(T, M_eff1, M, p)\n",
    "%timeit de.ForwardRate(T, M_eff2, M)\n",
    "equal(new=ForwardRate(T, M_eff1, M, p), old=de.ForwardRate(T, M_eff2, M), eps=1e-100)"
   ]
  },
  {
   "cell_type": "code",
   "execution_count": 30,
   "metadata": {},
   "outputs": [
    {
     "name": "stdout",
     "output_type": "stream",
     "text": [
      "1.56 µs ± 10.4 ns per loop (mean ± std. dev. of 7 runs, 1,000,000 loops each)\n",
      "3.46 µs ± 26.7 ns per loop (mean ± std. dev. of 7 runs, 100,000 loops each)\n"
     ]
    }
   ],
   "source": [
    "@njit(float64[:](float64[:], float64[:], float64[:], float64, float64))\n",
    "def BackwardRate(k_forward, S, H, T, P_amb):\n",
    "    k_backward = np.zeros((par.I), dtype=np.float64)\n",
    "    for i in range(par.I):\n",
    "        DeltaS = 0.0\n",
    "        DeltaH = 0.0\n",
    "        for k in range(par.K):\n",
    "            DeltaS += par.nu[i][k] * S[k]\n",
    "            DeltaH += par.nu[i][k] * H[k]\n",
    "        K_p = np.exp(DeltaS / par.R_erg - DeltaH / (par.R_erg * T))\n",
    "        K_c = K_p * (P_amb * 10.0 / (par.R_erg * T)) ** np.sum(par.nu[i])\n",
    "        k_backward[i] = k_forward[i] / K_c\n",
    "    for i in par.IrreversibleIndexes:\n",
    "        k_backward[i] = 0.0\n",
    "        \n",
    "    return k_backward\n",
    "\n",
    "k_forward = ForwardRate(T, M_eff1, M, p)\n",
    "%timeit BackwardRate(k_forward, S, H, T, P_amb)\n",
    "%timeit de.BackwardRate(k_forward, S, H, T, P_amb)\n",
    "equal(new=BackwardRate(k_forward, S, H, T, P_amb), old=de.BackwardRate(k_forward, S, H, T, P_amb), eps=1e-100)"
   ]
  },
  {
   "cell_type": "code",
   "execution_count": 31,
   "metadata": {},
   "outputs": [
    {
     "name": "stdout",
     "output_type": "stream",
     "text": [
      "6.13 µs ± 51.8 ns per loop (mean ± std. dev. of 7 runs, 100,000 loops each)\n",
      "13 µs ± 158 ns per loop (mean ± std. dev. of 7 runs, 100,000 loops each)\n"
     ]
    }
   ],
   "source": [
    "@njit(float64[:](float64, float64[:], float64[:], float64[:], float64, float64, float64))\n",
    "def ProductionRate(T, H, S, c, P_amb, p, M):\n",
    "# Third body correction factors\n",
    "    M_eff = np.zeros((par.ThirdBodyCount), dtype = np.float64)   # effective total concentration of the third-body \n",
    "    for j, i in enumerate(par.ThirdBodyIndexes):\n",
    "        for k in range(par.K):\n",
    "            M_eff[j] += par.alfa[j][k] * c[k]\n",
    "# Forward and backward rates\n",
    "    k_forward = ForwardRate(T=T, M_eff=M_eff, M=M, p=p)\n",
    "    k_backward = BackwardRate(k_forward=k_forward, S=S, H=H, T=T, P_amb=P_amb)\n",
    "\n",
    "# Net rates\n",
    "    q = np.zeros((par.I), dtype = np.float64)\n",
    "    for i in range(par.I):\n",
    "        forward = 1.0\n",
    "        backward = 1.0\n",
    "        for k in range(par.K):\n",
    "            forward *= c[k] ** par.nu_forward[i][k]\n",
    "            backward *= c[k] ** par.nu_backward[i][k]\n",
    "        q[i] = k_forward[i] * forward - k_backward[i] * backward\n",
    "# Third body reactions\n",
    "    for j, i in enumerate(par.ThirdBodyIndexes):    # i is the number of reaction, j is the index of i in par.ThirdBodyIndexes\n",
    "        if i not in par.PressureDependentIndexes:\n",
    "            q[i] *= M_eff[j]\n",
    "# Production rates\n",
    "    omega_dot = np.zeros((par.K), dtype=np.float64)\n",
    "    for k in range(par.K):\n",
    "        for i in range(par.I):\n",
    "            omega_dot[k] += par.nu[i, k] * q[i]\n",
    "    \n",
    "    return omega_dot\n",
    "\n",
    "%timeit ProductionRate(T, H, S, c, P_amb, p, M)\n",
    "%timeit de.ProductionRate(T, H, S, c, P_amb, M)\n",
    "equal(new=ProductionRate(T, H, S, c, P_amb, p, M), old=de.ProductionRate(T, H, S, c, P_amb, M), eps=1e-100)"
   ]
  },
  {
   "cell_type": "code",
   "execution_count": 34,
   "metadata": {},
   "outputs": [],
   "source": [
    "kwargs = dict(t=t, x=x, P_amb=1e5, alfa_M=0.35, T_inf=300.0, surfactant=1.0, P_v=par.P_v, mu_L=par.mu_L, c_L=par.c_L, ex_args=args)"
   ]
  },
  {
   "cell_type": "code",
   "execution_count": 169,
   "metadata": {},
   "outputs": [
    {
     "name": "stdout",
     "output_type": "stream",
     "text": [
      "6.79 µs ± 49 ns per loop (mean ± std. dev. of 7 runs, 100,000 loops each)\n",
      "18.8 µs ± 190 ns per loop (mean ± std. dev. of 7 runs, 100,000 loops each)\n"
     ]
    },
    {
     "data": {
      "text/plain": [
       "True"
      ]
     },
     "execution_count": 169,
     "metadata": {},
     "output_type": "execute_result"
    }
   ],
   "source": [
    "@njit(float64[:](float64, float64[:], float64, float64, float64, float64, float64, float64, float64, float64[:]))\n",
    "def f(t, x, P_amb, alfa_M, T_inf, surfactant, P_v, mu_L, c_L, ex_args):   \n",
    "    R = x[0]      # bubble radius [m]\n",
    "    R_dot = x[1]  # [m/s]\n",
    "    T = x[2]      # temperature [K]\n",
    "    c = x[3:-1]     # molar concentration [mol/cm^3]\n",
    "    M = np.sum(c) # sum of concentration\n",
    "    X = c / M     # mole fraction [-]\n",
    "    p = 0.1 * M * par.R_erg * T # Partial pressure of the gases [Pa]\n",
    "    dxdt = np.zeros(x.shape, dtype = np.float64)\n",
    "    \n",
    "# d/dt R\n",
    "    dxdt[0] = R_dot\n",
    "# Thermodynamics\n",
    "    (C_p, H, S, C_v) = Thermodynamic(T=T)\n",
    "    W_avg = C_p_avg = C_v_avg = lambda_avg = 0.0\n",
    "    for k in range(par.K):\n",
    "        W_avg += X[k] * par.W[k]\n",
    "        C_p_avg += X[k] * C_p[k]\n",
    "        C_v_avg += X[k] * C_v[k]\n",
    "        lambda_avg += X[k] * par.lambdas[k]\n",
    "\n",
    "    if enable_heat_transfer:\n",
    "        rho_avg = W_avg * M # or np.sum(c * par.W)\n",
    "        chi_avg = 10.0 * lambda_avg * W_avg / (C_p_avg * rho_avg)\n",
    "        l_th = np.inf\n",
    "        if R_dot != 0.0:\n",
    "            l_th = np.sqrt(R * chi_avg / abs(R_dot))\n",
    "        l_th = min(l_th, R / np.pi)\n",
    "        Q_th_dot = lambda_avg * (T_inf - T) / l_th\n",
    "    else:\n",
    "        Q_th_dot = 0.0\n",
    "# d/dt c\n",
    "    if enable_reactions:\n",
    "        omega_dot = ProductionRate(T=T, H=H, S=S, c=c, P_amb=P_amb, p=p, M=M)\n",
    "    else:\n",
    "        omega_dot = np.zeros((par.K), dtype = np.float64)\n",
    "    c_dot = omega_dot - c * 3.0 * R_dot / R\n",
    "# Evaporation\n",
    "    if enable_evaporation:\n",
    "        n_net_dot, evap_energy = Evaporation(p=p, T=T, X_H2O=X[par.indexOfWater], alfa_M=alfa_M, T_inf=T_inf, P_v=P_v)\n",
    "        c_dot[par.indexOfWater] += 1.0e-6 * n_net_dot * 3.0 / R    # water evaporation\n",
    "    else:\n",
    "        n_net_dot = evap_energy = 0.0\n",
    "    dxdt[3:-1] = c_dot\n",
    "# d/dt T\n",
    "    sum_omega_dot = np.sum(omega_dot)\n",
    "    Q_r_dot = 0.0\n",
    "    for k in range(par.K):\n",
    "        Q_r_dot -= omega_dot[k] * H[k]\n",
    "    Q_r_dot += sum_omega_dot * par.R_erg * T\n",
    "    T_dot = (Q_r_dot + 30.0 / R * (-p * R_dot + Q_th_dot + evap_energy)) / (M * C_v_avg)\n",
    "    p_dot = p * (sum_omega_dot / M + T_dot / T - 3.0 * R_dot / R) # for later use\n",
    "    dxdt[2] = T_dot\n",
    "# d/dt R_dot\n",
    "    (delta, delta_dot) = Pressure(t=t,\n",
    "        R=R, R_dot=R_dot, mu_L=mu_L, surfactant=surfactant,\n",
    "        p=p, p_dot=p_dot, P_amb=P_amb, args=ex_args\n",
    "    )   # delta = (p_L-P_amb) / rho_L\n",
    "    \n",
    "    Nom = (1.0 + R_dot / c_L) * delta + R / c_L * delta_dot - (1.5 - 0.5 * R_dot / c_L) * R_dot ** 2\n",
    "    Den = (1.0 - R_dot / c_L) * R + 4.0 * mu_L / (c_L * par.rho_L)\n",
    "    \n",
    "    dxdt[1] = Nom / Den\n",
    "    \n",
    "    if enable_dissipated_energy:\n",
    "        V_dot=4.0 * R * R * R_dot * np.pi\n",
    "        integrand_th = -(p * (1 + R_dot / c_L) + R / c_L * p_dot) * V_dot\n",
    "        integrand_v = 16.0 * np.pi * mu_L * (R * R_dot*R_dot + R * R * R_dot * dxdt[1] / c_L)\n",
    "        integrand_r = 4.0 * np.pi / c_L * R * R * R_dot * (R_dot * p + p_dot * R - 0.5 * par.rho_L * R_dot * R_dot * R_dot - par.rho_L * R * R_dot * dxdt[1])\n",
    "\n",
    "        dxdt[-1]=(integrand_th + integrand_v + integrand_r)\n",
    "    else:\n",
    "        dxdt[-1]=0.0\n",
    "    \n",
    "    return dxdt\n",
    "\n",
    "%timeit f(**kwargs)\n",
    "%timeit de.f(**kwargs)\n",
    "equal(new=f(**kwargs), old=de.f(**kwargs), eps=1e-100)"
   ]
  },
  {
   "cell_type": "code",
   "execution_count": 36,
   "metadata": {},
   "outputs": [],
   "source": [
    "equal(new=f(**kwargs), old=de.f(**kwargs), eps=1e-100)"
   ]
  }
 ],
 "metadata": {
  "kernelspec": {
   "display_name": "Python 3",
   "language": "python",
   "name": "python3"
  },
  "language_info": {
   "codemirror_mode": {
    "name": "ipython",
    "version": 3
   },
   "file_extension": ".py",
   "mimetype": "text/x-python",
   "name": "python",
   "nbconvert_exporter": "python",
   "pygments_lexer": "ipython3",
   "version": "3.10.11"
  }
 },
 "nbformat": 4,
 "nbformat_minor": 2
}
